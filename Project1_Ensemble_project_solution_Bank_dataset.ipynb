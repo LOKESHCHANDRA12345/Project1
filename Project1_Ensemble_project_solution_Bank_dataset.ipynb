{
  "nbformat": 4,
  "nbformat_minor": 0,
  "metadata": {
    "kernelspec": {
      "display_name": "Python 3",
      "language": "python",
      "name": "python3"
    },
    "language_info": {
      "codemirror_mode": {
        "name": "ipython",
        "version": 3
      },
      "file_extension": ".py",
      "mimetype": "text/x-python",
      "name": "python",
      "nbconvert_exporter": "python",
      "pygments_lexer": "ipython3",
      "version": "3.8.3"
    },
    "toc": {
      "base_numbering": 1,
      "nav_menu": {},
      "number_sections": true,
      "sideBar": true,
      "skip_h1_title": false,
      "title_cell": "Table of Contents",
      "title_sidebar": "Contents",
      "toc_cell": true,
      "toc_position": {},
      "toc_section_display": true,
      "toc_window_display": false
    },
    "colab": {
      "name": "Project1 Ensemble project solution - Bank dataset ",
      "provenance": [],
      "collapsed_sections": [
        "hQXytqXrhQ6K",
        "m6EFXMoPhQ6T",
        "5fD82VsfhQ6V",
        "rnN-sqdrhQ6Y",
        "VKx9TylLhQ6b",
        "3A1Wly-UhQ6d",
        "wbIYXCORhQ6g",
        "44No9dnGhQ6h",
        "XnbkXx3UhQ6k",
        "R8SetEjlhQ6m",
        "jXpw9l-jhQ6p",
        "IfPC9455hQ6u",
        "YBcQL_OwhQ6x",
        "f4Kl1zmDhQ61",
        "8ABNTNZ7hQ63",
        "ENasXZ4uhQ65",
        "ghwvl7rUhQ67",
        "-OFflkszhQ68",
        "FBLUdcjAhQ7H",
        "LL-yMZKvhQ7K",
        "ZDS6YqCchQ7O",
        "KN4T8c5DhQ7R",
        "nhKQWDVBhQ7U",
        "FD0B8tKYhQ7W",
        "noJzU9_5hQ7b",
        "3zj6VNlrhQ7e",
        "TvnCpg-4hQ7f"
      ],
      "include_colab_link": true
    },
    "accelerator": "TPU"
  },
  "cells": [
    {
      "cell_type": "markdown",
      "metadata": {
        "id": "view-in-github",
        "colab_type": "text"
      },
      "source": [
        "<a href=\"https://colab.research.google.com/github/LOKESHCHANDRA12345/Project1/blob/main/Project1_Ensemble_project_solution_Bank_dataset.ipynb\" target=\"_parent\"><img src=\"https://colab.research.google.com/assets/colab-badge.svg\" alt=\"Open In Colab\"/></a>"
      ]
    },
    {
      "cell_type": "markdown",
      "metadata": {
        "toc": true,
        "id": "JL0dhCT4hQ5B"
      },
      "source": [
        "<h1>Table of Contents<span class=\"tocSkip\"></span></h1>\n",
        "<div class=\"toc\"><ul class=\"toc-item\"><li><ul class=\"toc-item\"><li><span><a href=\"#Data-Description:\" data-toc-modified-id=\"Data-Description:-0.1\"><span class=\"toc-item-num\">0.1&nbsp;&nbsp;</span>Data Description:</a></span></li><li><span><a href=\"#Domain:\" data-toc-modified-id=\"Domain:-0.2\"><span class=\"toc-item-num\">0.2&nbsp;&nbsp;</span>Domain:</a></span></li><li><span><a href=\"#Context:\" data-toc-modified-id=\"Context:-0.3\"><span class=\"toc-item-num\">0.3&nbsp;&nbsp;</span>Context:</a></span></li><li><span><a href=\"#Attribute-Information:\" data-toc-modified-id=\"Attribute-Information:-0.4\"><span class=\"toc-item-num\">0.4&nbsp;&nbsp;</span>Attribute Information:</a></span></li><li><span><a href=\"#Learning-Outcomes:\" data-toc-modified-id=\"Learning-Outcomes:-0.5\"><span class=\"toc-item-num\">0.5&nbsp;&nbsp;</span>Learning Outcomes:</a></span></li><li><span><a href=\"#Objective\" data-toc-modified-id=\"Objective-0.6\"><span class=\"toc-item-num\">0.6&nbsp;&nbsp;</span>Objective</a></span></li></ul></li><li><span><a href=\"#Importing-Packages-and-Reading-file-as-DataFrame\" data-toc-modified-id=\"Importing-Packages-and-Reading-file-as-DataFrame-1\"><span class=\"toc-item-num\">1&nbsp;&nbsp;</span>Importing Packages and Reading file as DataFrame</a></span></li><li><span><a href=\"#Exploratory-Data-Analysis\" data-toc-modified-id=\"Exploratory-Data-Analysis-2\"><span class=\"toc-item-num\">2&nbsp;&nbsp;</span>Exploratory Data Analysis</a></span><ul class=\"toc-item\"><li><span><a href=\"#Shape-of-the-data\" data-toc-modified-id=\"Shape-of-the-data-2.1\"><span class=\"toc-item-num\">2.1&nbsp;&nbsp;</span>Shape of the data</a></span></li><li><span><a href=\"#Data-type-of-each-attribute\" data-toc-modified-id=\"Data-type-of-each-attribute-2.2\"><span class=\"toc-item-num\">2.2&nbsp;&nbsp;</span>Data type of each attribute</a></span></li><li><span><a href=\"#Checking-the-presence-of-missing-values\" data-toc-modified-id=\"Checking-the-presence-of-missing-values-2.3\"><span class=\"toc-item-num\">2.3&nbsp;&nbsp;</span>Checking the presence of missing values</a></span></li><li><span><a href=\"#5-point-summary-of-numerical-attribute\" data-toc-modified-id=\"5-point-summary-of-numerical-attribute-2.4\"><span class=\"toc-item-num\">2.4&nbsp;&nbsp;</span>5 point summary of numerical attribute</a></span><ul class=\"toc-item\"><li><span><a href=\"#5-point-summary-understanding:\" data-toc-modified-id=\"5-point-summary-understanding:-2.4.1\"><span class=\"toc-item-num\">2.4.1&nbsp;&nbsp;</span>5 point summary understanding:</a></span></li></ul></li><li><span><a href=\"#Distribution-of-numerical-columns.\" data-toc-modified-id=\"Distribution-of-numerical-columns.-2.5\"><span class=\"toc-item-num\">2.5&nbsp;&nbsp;</span>Distribution of numerical columns.</a></span><ul class=\"toc-item\"><li><span><a href=\"#Understanding-from-distributions\" data-toc-modified-id=\"Understanding-from-distributions-2.5.1\"><span class=\"toc-item-num\">2.5.1&nbsp;&nbsp;</span>Understanding from distributions</a></span></li></ul></li><li><span><a href=\"#Distribution-of-Categorical-columns.\" data-toc-modified-id=\"Distribution-of-Categorical-columns.-2.6\"><span class=\"toc-item-num\">2.6&nbsp;&nbsp;</span>Distribution of Categorical columns.</a></span><ul class=\"toc-item\"><li><span><a href=\"#Understanding-from-distributions\" data-toc-modified-id=\"Understanding-from-distributions-2.6.1\"><span class=\"toc-item-num\">2.6.1&nbsp;&nbsp;</span>Understanding from distributions</a></span></li></ul></li><li><span><a href=\"#Measure-of-skewness-of-numerical-columns\" data-toc-modified-id=\"Measure-of-skewness-of-numerical-columns-2.7\"><span class=\"toc-item-num\">2.7&nbsp;&nbsp;</span>Measure of skewness of numerical columns</a></span></li><li><span><a href=\"#Checking-the-presence-of-outliers\" data-toc-modified-id=\"Checking-the-presence-of-outliers-2.8\"><span class=\"toc-item-num\">2.8&nbsp;&nbsp;</span>Checking the presence of outliers</a></span><ul class=\"toc-item\"><li><span><a href=\"#Understanding-from-boxplots\" data-toc-modified-id=\"Understanding-from-boxplots-2.8.1\"><span class=\"toc-item-num\">2.8.1&nbsp;&nbsp;</span>Understanding from boxplots</a></span></li></ul></li><li><span><a href=\"#Distribution-of-Target-column\" data-toc-modified-id=\"Distribution-of-Target-column-2.9\"><span class=\"toc-item-num\">2.9&nbsp;&nbsp;</span>Distribution of Target column</a></span></li></ul></li><li><span><a href=\"#Data-Preprocessing:\" data-toc-modified-id=\"Data-Preprocessing:-3\"><span class=\"toc-item-num\">3&nbsp;&nbsp;</span>Data Preprocessing:</a></span><ul class=\"toc-item\"><li><span><a href=\"#Label-Encoding-of-variables\" data-toc-modified-id=\"Label-Encoding-of-variables-3.1\"><span class=\"toc-item-num\">3.1&nbsp;&nbsp;</span>Label Encoding of variables</a></span></li><li><span><a href=\"#Checking-&amp;-modifying-datatypes-after-Label-Encoding\" data-toc-modified-id=\"Checking-&amp;-modifying-datatypes-after-Label-Encoding-3.2\"><span class=\"toc-item-num\">3.2&nbsp;&nbsp;</span>Checking &amp; modifying datatypes after Label Encoding</a></span></li><li><span><a href=\"#Handeling-Outliers-with-mean-replacement\" data-toc-modified-id=\"Handeling-Outliers-with-mean-replacement-3.3\"><span class=\"toc-item-num\">3.3&nbsp;&nbsp;</span>Handeling Outliers with mean replacement</a></span><ul class=\"toc-item\"><li><span><a href=\"#Understanding-from-boxplots-after-handeling-outliers\" data-toc-modified-id=\"Understanding-from-boxplots-after-handeling-outliers-3.3.1\"><span class=\"toc-item-num\">3.3.1&nbsp;&nbsp;</span>Understanding from boxplots after handeling outliers</a></span></li></ul></li><li><span><a href=\"#Corr-plot-of-all-features\" data-toc-modified-id=\"Corr-plot-of-all-features-3.4\"><span class=\"toc-item-num\">3.4&nbsp;&nbsp;</span>Corr plot of all features</a></span><ul class=\"toc-item\"><li><span><a href=\"#Understanding-from-above-corrp-plot:\" data-toc-modified-id=\"Understanding-from-above-corrp-plot:-3.4.1\"><span class=\"toc-item-num\">3.4.1&nbsp;&nbsp;</span>Understanding from above corrp plot:</a></span></li></ul></li><li><span><a href=\"#Removing-columns:\" data-toc-modified-id=\"Removing-columns:-3.5\"><span class=\"toc-item-num\">3.5&nbsp;&nbsp;</span>Removing columns:</a></span></li></ul></li><li><span><a href=\"#Pairplot-of-features\" data-toc-modified-id=\"Pairplot-of-features-4\"><span class=\"toc-item-num\">4&nbsp;&nbsp;</span>Pairplot of features</a></span></li><li><span><a href=\"#Train-Test-Split-(70:30)\" data-toc-modified-id=\"Train-Test-Split-(70:30)-5\"><span class=\"toc-item-num\">5&nbsp;&nbsp;</span>Train Test Split (70:30)</a></span></li><li><span><a href=\"#Scaling-of-columns\" data-toc-modified-id=\"Scaling-of-columns-6\"><span class=\"toc-item-num\">6&nbsp;&nbsp;</span>Scaling of columns</a></span></li><li><span><a href=\"#Models:\" data-toc-modified-id=\"Models:-7\"><span class=\"toc-item-num\">7&nbsp;&nbsp;</span>Models:</a></span><ul class=\"toc-item\"><li><span><a href=\"#Logistic-Regression:\" data-toc-modified-id=\"Logistic-Regression:-7.1\"><span class=\"toc-item-num\">7.1&nbsp;&nbsp;</span>Logistic Regression:</a></span></li><li><span><a href=\"#Naive-Bayes\" data-toc-modified-id=\"Naive-Bayes-7.2\"><span class=\"toc-item-num\">7.2&nbsp;&nbsp;</span>Naive Bayes</a></span></li><li><span><a href=\"#K-Nearest-Neighbor\" data-toc-modified-id=\"K-Nearest-Neighbor-7.3\"><span class=\"toc-item-num\">7.3&nbsp;&nbsp;</span>K-Nearest Neighbor</a></span></li><li><span><a href=\"#SVC\" data-toc-modified-id=\"SVC-7.4\"><span class=\"toc-item-num\">7.4&nbsp;&nbsp;</span>SVC</a></span></li></ul></li><li><span><a href=\"#Ensemble-Models\" data-toc-modified-id=\"Ensemble-Models-8\"><span class=\"toc-item-num\">8&nbsp;&nbsp;</span>Ensemble Models</a></span><ul class=\"toc-item\"><li><span><a href=\"#Decision-Tree\" data-toc-modified-id=\"Decision-Tree-8.1\"><span class=\"toc-item-num\">8.1&nbsp;&nbsp;</span>Decision Tree</a></span></li><li><span><a href=\"#Feature-importance-test-for-decision-tree\" data-toc-modified-id=\"Feature-importance-test-for-decision-tree-8.2\"><span class=\"toc-item-num\">8.2&nbsp;&nbsp;</span>Feature importance test for decision tree</a></span></li><li><span><a href=\"#Pruning-of-Decision-Tree\" data-toc-modified-id=\"Pruning-of-Decision-Tree-8.3\"><span class=\"toc-item-num\">8.3&nbsp;&nbsp;</span>Pruning of Decision Tree</a></span></li><li><span><a href=\"#Bagging\" data-toc-modified-id=\"Bagging-8.4\"><span class=\"toc-item-num\">8.4&nbsp;&nbsp;</span>Bagging</a></span></li><li><span><a href=\"#Adaptive-Boosting\" data-toc-modified-id=\"Adaptive-Boosting-8.5\"><span class=\"toc-item-num\">8.5&nbsp;&nbsp;</span>Adaptive Boosting</a></span></li><li><span><a href=\"#Gradient-boosting\" data-toc-modified-id=\"Gradient-boosting-8.6\"><span class=\"toc-item-num\">8.6&nbsp;&nbsp;</span>Gradient boosting</a></span></li><li><span><a href=\"#Random-Forest\" data-toc-modified-id=\"Random-Forest-8.7\"><span class=\"toc-item-num\">8.7&nbsp;&nbsp;</span>Random Forest</a></span></li></ul></li><li><span><a href=\"#Models-with-accuracy-scores\" data-toc-modified-id=\"Models-with-accuracy-scores-9\"><span class=\"toc-item-num\">9&nbsp;&nbsp;</span>Models with accuracy scores</a></span></li><li><span><a href=\"#Conclusion:\" data-toc-modified-id=\"Conclusion:-10\"><span class=\"toc-item-num\">10&nbsp;&nbsp;</span>Conclusion:</a></span><ul class=\"toc-item\"><li><span><a href=\"#Comments-on-dataset:\" data-toc-modified-id=\"Comments-on-dataset:-10.1\"><span class=\"toc-item-num\">10.1&nbsp;&nbsp;</span>Comments on dataset:</a></span></li><li><span><a href=\"#Comments-on--Models:\" data-toc-modified-id=\"Comments-on--Models:-10.2\"><span class=\"toc-item-num\">10.2&nbsp;&nbsp;</span>Comments on  Models:</a></span></li><li><span><a href=\"#Miscellaneous-Comments:\" data-toc-modified-id=\"Miscellaneous-Comments:-10.3\"><span class=\"toc-item-num\">10.3&nbsp;&nbsp;</span>Miscellaneous Comments:</a></span></li></ul></li></ul></div>"
      ]
    },
    {
      "cell_type": "markdown",
      "metadata": {
        "id": "RgIg7K7AhQ5q"
      },
      "source": [
        "## Data Description:   \n",
        "##### The data is related with direct marketing campaigns of a  Portuguese banking institution. The marketing campaigns  were based on phone calls. Often, more than one contact to  the same client was required, in order to access if the product  (bank term deposit) would be ('yes') or not ('no') subscribed.   \n",
        "\n",
        "## Domain:   \n",
        "##### Banking  \n",
        "\n",
        "## Context:  \n",
        "##### Leveraging customer information is paramount for most  businesses. In the case of a bank, attributes of customers like  the ones mentioned below can be crucial in strategizing a  marketing campaign when launching a new product.  \n",
        "\n",
        "## Attribute Information: \n",
        "\n",
        "* age (numeric)  \n",
        "* job : type of job (categorical:  'admin.','blue-collar','entrepreneur','housemaid','manage ment','retired','self-employed','services','student','technicia n','unemployed','unknown')  \n",
        "* marital : marital status (categorical:  'divorced','married','single','unknown'; note: 'divorced'  means divorced or widowed)  \n",
        "* education (categorical: 'basic.4y','basic.6y','basic.9y','high.school','illiterate','profes sional.course','university.degree','unknown') \n",
        "* default: has credit in default? (categorical:  'no','yes','unknown')  \n",
        "* balance: average yearly balance, in euros (numeric)  \n",
        "* housing: has housing loan? (categorical:  'no','yes','unknown')  \n",
        "* loan: has personal loan? (categorical: 'no','yes','unknown')  \n",
        "* contact: contact communication type (categorical:  'cellular','telephone')  \n",
        "* day: last contact day of the month (numeric 1 -31)  \n",
        "* month: last contact month of year (categorical: 'jan', 'feb',  'mar', ..., 'nov', 'dec')  \n",
        "*  duration: last contact duration, in seconds (numeric).  Important note: this attribute highly affects the output  target (e.g., if duration=0 then y='no'). Yet, the duration is  not known before a call is performed. Also, after the end  of the call y is obviously known. Thus, this input should  only be included for benchmark purposes and should be  discarded if the intention is to have a realistic predictive  model.  \n",
        "*  campaign: number of contacts performed during this  campaign and for this client (numeric, includes last  contact)  \n",
        "*  pdays: number of days that passed by after the client  was last contacted from a previous campaign (numeric;  999 means client was not previously contacted)  \n",
        "* previous: number of contacts performed before this  campaign and for this client (numeric)  \n",
        "*  poutcome: outcome of the previous marketing  campaign (categorical: 'failure','nonexistent','success')  \n",
        "* target: has the client subscribed a term deposit? (binary:  \"yes\",\"no\") \n",
        "\n",
        "## Learning Outcomes:  \n",
        "* Exploratory Data Analysis  \n",
        "* Preparing the data to train a model  \n",
        "* Training and making predictions using an Ensemble  Model  \n",
        "* Tuning an Ensemble model    \n",
        "\n",
        "## Objective  \n",
        "##### The classification goal is to predict if the client will subscribe  (yes/no) a term deposit (variable y).  "
      ]
    },
    {
      "cell_type": "markdown",
      "metadata": {
        "id": "omGou6iLhQ5u"
      },
      "source": [
        "# Importing Packages and Reading file as DataFrame"
      ]
    },
    {
      "cell_type": "code",
      "metadata": {
        "id": "FV06Oea2hQ5w"
      },
      "source": [
        "import numpy as np #import numpy\n",
        "import pandas as pd #import pandas\n",
        "import seaborn as sns # import seaborn\n",
        "import matplotlib.pyplot as plt #import pyplot\n",
        "from scipy.stats import pearsonr #for pearson's correlation\n",
        "\n",
        "from sklearn.model_selection import train_test_split #for splitting the data in train and test\n",
        "from sklearn.preprocessing import StandardScaler,MinMaxScaler,RobustScaler #for various scaling methods\n",
        "from sklearn.linear_model import LogisticRegression #for LogisticRegression\n",
        "from sklearn.naive_bayes import GaussianNB #for NaiveBayes\n",
        "from sklearn.neighbors import KNeighborsClassifier #for KNN\n",
        "from sklearn.svm import SVC #for Support vector classifier\n",
        "\n",
        "\n",
        "from sklearn.tree import DecisionTreeClassifier\n",
        "#from sklearn.feature_extraction.text import CountVectorizer  #DT does not take strings as input for the model fit step....\n",
        "from IPython.display import Image  #for image\n",
        "from sklearn import tree #for tree\n",
        "from os import system #using user environment\n",
        "from sklearn.ensemble import BaggingClassifier #for bagging classifier\n",
        "from sklearn.ensemble import AdaBoostClassifier #for adaptive boosting\n",
        "from sklearn.ensemble import GradientBoostingClassifier #for gradient boosting\n",
        "from sklearn.ensemble import RandomForestClassifier #for random forest\n",
        "from sklearn.preprocessing import LabelEncoder #for lebel encoder\n",
        "\n",
        "from sklearn.tree import export_graphviz #for exporting dot data\n",
        "#from sklearn.externals.six import StringIO  #for stringIO\n",
        "from IPython.display import Image  #for including image\n",
        "#import pydotplus #for dot data\n",
        "#import graphviz #for visualizing decision tree\n",
        "from statistics import median,mean\n",
        "\n",
        "from sklearn.metrics import accuracy_score,confusion_matrix,recall_score #for accuracy matrices\n",
        "from io import StringIO\n",
        "from pydotplus import graph_from_dot_data\n",
        "from sklearn.metrics import precision_score,classification_report,roc_auc_score,precision_score #for accuracy matrices\n"
      ],
      "execution_count": null,
      "outputs": []
    },
    {
      "cell_type": "code",
      "metadata": {
        "colab": {
          "base_uri": "https://localhost:8080/",
          "height": 226
        },
        "id": "bngc8wdfhQ5z",
        "outputId": "a04cfe2c-9d2c-4b75-d05c-c686c822d3a7"
      },
      "source": [
        "DataFrame = pd.read_csv('/content/bank-full - Govindaraj V.csv') #reading the CSV file\n",
        "DataFrame.head() #to check head of the dataframe"
      ],
      "execution_count": null,
      "outputs": [
        {
          "output_type": "execute_result",
          "data": {
            "text/html": [
              "<div>\n",
              "<style scoped>\n",
              "    .dataframe tbody tr th:only-of-type {\n",
              "        vertical-align: middle;\n",
              "    }\n",
              "\n",
              "    .dataframe tbody tr th {\n",
              "        vertical-align: top;\n",
              "    }\n",
              "\n",
              "    .dataframe thead th {\n",
              "        text-align: right;\n",
              "    }\n",
              "</style>\n",
              "<table border=\"1\" class=\"dataframe\">\n",
              "  <thead>\n",
              "    <tr style=\"text-align: right;\">\n",
              "      <th></th>\n",
              "      <th>age</th>\n",
              "      <th>job</th>\n",
              "      <th>marital</th>\n",
              "      <th>education</th>\n",
              "      <th>default</th>\n",
              "      <th>balance</th>\n",
              "      <th>housing</th>\n",
              "      <th>loan</th>\n",
              "      <th>contact</th>\n",
              "      <th>day</th>\n",
              "      <th>month</th>\n",
              "      <th>duration</th>\n",
              "      <th>campaign</th>\n",
              "      <th>pdays</th>\n",
              "      <th>previous</th>\n",
              "      <th>poutcome</th>\n",
              "      <th>Target</th>\n",
              "    </tr>\n",
              "  </thead>\n",
              "  <tbody>\n",
              "    <tr>\n",
              "      <th>0</th>\n",
              "      <td>58</td>\n",
              "      <td>management</td>\n",
              "      <td>married</td>\n",
              "      <td>tertiary</td>\n",
              "      <td>no</td>\n",
              "      <td>2143</td>\n",
              "      <td>yes</td>\n",
              "      <td>no</td>\n",
              "      <td>unknown</td>\n",
              "      <td>5</td>\n",
              "      <td>may</td>\n",
              "      <td>261</td>\n",
              "      <td>1</td>\n",
              "      <td>-1</td>\n",
              "      <td>0</td>\n",
              "      <td>unknown</td>\n",
              "      <td>no</td>\n",
              "    </tr>\n",
              "    <tr>\n",
              "      <th>1</th>\n",
              "      <td>44</td>\n",
              "      <td>technician</td>\n",
              "      <td>single</td>\n",
              "      <td>secondary</td>\n",
              "      <td>no</td>\n",
              "      <td>29</td>\n",
              "      <td>yes</td>\n",
              "      <td>no</td>\n",
              "      <td>unknown</td>\n",
              "      <td>5</td>\n",
              "      <td>may</td>\n",
              "      <td>151</td>\n",
              "      <td>1</td>\n",
              "      <td>-1</td>\n",
              "      <td>0</td>\n",
              "      <td>unknown</td>\n",
              "      <td>no</td>\n",
              "    </tr>\n",
              "    <tr>\n",
              "      <th>2</th>\n",
              "      <td>33</td>\n",
              "      <td>entrepreneur</td>\n",
              "      <td>married</td>\n",
              "      <td>secondary</td>\n",
              "      <td>no</td>\n",
              "      <td>2</td>\n",
              "      <td>yes</td>\n",
              "      <td>yes</td>\n",
              "      <td>unknown</td>\n",
              "      <td>5</td>\n",
              "      <td>may</td>\n",
              "      <td>76</td>\n",
              "      <td>1</td>\n",
              "      <td>-1</td>\n",
              "      <td>0</td>\n",
              "      <td>unknown</td>\n",
              "      <td>no</td>\n",
              "    </tr>\n",
              "    <tr>\n",
              "      <th>3</th>\n",
              "      <td>47</td>\n",
              "      <td>blue-collar</td>\n",
              "      <td>married</td>\n",
              "      <td>unknown</td>\n",
              "      <td>no</td>\n",
              "      <td>1506</td>\n",
              "      <td>yes</td>\n",
              "      <td>no</td>\n",
              "      <td>unknown</td>\n",
              "      <td>5</td>\n",
              "      <td>may</td>\n",
              "      <td>92</td>\n",
              "      <td>1</td>\n",
              "      <td>-1</td>\n",
              "      <td>0</td>\n",
              "      <td>unknown</td>\n",
              "      <td>no</td>\n",
              "    </tr>\n",
              "    <tr>\n",
              "      <th>4</th>\n",
              "      <td>33</td>\n",
              "      <td>unknown</td>\n",
              "      <td>single</td>\n",
              "      <td>unknown</td>\n",
              "      <td>no</td>\n",
              "      <td>1</td>\n",
              "      <td>no</td>\n",
              "      <td>no</td>\n",
              "      <td>unknown</td>\n",
              "      <td>5</td>\n",
              "      <td>may</td>\n",
              "      <td>198</td>\n",
              "      <td>1</td>\n",
              "      <td>-1</td>\n",
              "      <td>0</td>\n",
              "      <td>unknown</td>\n",
              "      <td>no</td>\n",
              "    </tr>\n",
              "  </tbody>\n",
              "</table>\n",
              "</div>"
            ],
            "text/plain": [
              "   age           job  marital  education  ... pdays  previous poutcome Target\n",
              "0   58    management  married   tertiary  ...    -1         0  unknown     no\n",
              "1   44    technician   single  secondary  ...    -1         0  unknown     no\n",
              "2   33  entrepreneur  married  secondary  ...    -1         0  unknown     no\n",
              "3   47   blue-collar  married    unknown  ...    -1         0  unknown     no\n",
              "4   33       unknown   single    unknown  ...    -1         0  unknown     no\n",
              "\n",
              "[5 rows x 17 columns]"
            ]
          },
          "metadata": {},
          "execution_count": 155
        }
      ]
    },
    {
      "cell_type": "code",
      "metadata": {
        "colab": {
          "base_uri": "https://localhost:8080/",
          "height": 226
        },
        "id": "QgarLHOrhQ54",
        "outputId": "be835fe4-ccd8-4cae-c461-c17a77116b3e"
      },
      "source": [
        "DataFrame.tail() #to check tail of the dataframe"
      ],
      "execution_count": null,
      "outputs": [
        {
          "output_type": "execute_result",
          "data": {
            "text/html": [
              "<div>\n",
              "<style scoped>\n",
              "    .dataframe tbody tr th:only-of-type {\n",
              "        vertical-align: middle;\n",
              "    }\n",
              "\n",
              "    .dataframe tbody tr th {\n",
              "        vertical-align: top;\n",
              "    }\n",
              "\n",
              "    .dataframe thead th {\n",
              "        text-align: right;\n",
              "    }\n",
              "</style>\n",
              "<table border=\"1\" class=\"dataframe\">\n",
              "  <thead>\n",
              "    <tr style=\"text-align: right;\">\n",
              "      <th></th>\n",
              "      <th>age</th>\n",
              "      <th>job</th>\n",
              "      <th>marital</th>\n",
              "      <th>education</th>\n",
              "      <th>default</th>\n",
              "      <th>balance</th>\n",
              "      <th>housing</th>\n",
              "      <th>loan</th>\n",
              "      <th>contact</th>\n",
              "      <th>day</th>\n",
              "      <th>month</th>\n",
              "      <th>duration</th>\n",
              "      <th>campaign</th>\n",
              "      <th>pdays</th>\n",
              "      <th>previous</th>\n",
              "      <th>poutcome</th>\n",
              "      <th>Target</th>\n",
              "    </tr>\n",
              "  </thead>\n",
              "  <tbody>\n",
              "    <tr>\n",
              "      <th>45206</th>\n",
              "      <td>51</td>\n",
              "      <td>technician</td>\n",
              "      <td>married</td>\n",
              "      <td>tertiary</td>\n",
              "      <td>no</td>\n",
              "      <td>825</td>\n",
              "      <td>no</td>\n",
              "      <td>no</td>\n",
              "      <td>cellular</td>\n",
              "      <td>17</td>\n",
              "      <td>nov</td>\n",
              "      <td>977</td>\n",
              "      <td>3</td>\n",
              "      <td>-1</td>\n",
              "      <td>0</td>\n",
              "      <td>unknown</td>\n",
              "      <td>yes</td>\n",
              "    </tr>\n",
              "    <tr>\n",
              "      <th>45207</th>\n",
              "      <td>71</td>\n",
              "      <td>retired</td>\n",
              "      <td>divorced</td>\n",
              "      <td>primary</td>\n",
              "      <td>no</td>\n",
              "      <td>1729</td>\n",
              "      <td>no</td>\n",
              "      <td>no</td>\n",
              "      <td>cellular</td>\n",
              "      <td>17</td>\n",
              "      <td>nov</td>\n",
              "      <td>456</td>\n",
              "      <td>2</td>\n",
              "      <td>-1</td>\n",
              "      <td>0</td>\n",
              "      <td>unknown</td>\n",
              "      <td>yes</td>\n",
              "    </tr>\n",
              "    <tr>\n",
              "      <th>45208</th>\n",
              "      <td>72</td>\n",
              "      <td>retired</td>\n",
              "      <td>married</td>\n",
              "      <td>secondary</td>\n",
              "      <td>no</td>\n",
              "      <td>5715</td>\n",
              "      <td>no</td>\n",
              "      <td>no</td>\n",
              "      <td>cellular</td>\n",
              "      <td>17</td>\n",
              "      <td>nov</td>\n",
              "      <td>1127</td>\n",
              "      <td>5</td>\n",
              "      <td>184</td>\n",
              "      <td>3</td>\n",
              "      <td>success</td>\n",
              "      <td>yes</td>\n",
              "    </tr>\n",
              "    <tr>\n",
              "      <th>45209</th>\n",
              "      <td>57</td>\n",
              "      <td>blue-collar</td>\n",
              "      <td>married</td>\n",
              "      <td>secondary</td>\n",
              "      <td>no</td>\n",
              "      <td>668</td>\n",
              "      <td>no</td>\n",
              "      <td>no</td>\n",
              "      <td>telephone</td>\n",
              "      <td>17</td>\n",
              "      <td>nov</td>\n",
              "      <td>508</td>\n",
              "      <td>4</td>\n",
              "      <td>-1</td>\n",
              "      <td>0</td>\n",
              "      <td>unknown</td>\n",
              "      <td>no</td>\n",
              "    </tr>\n",
              "    <tr>\n",
              "      <th>45210</th>\n",
              "      <td>37</td>\n",
              "      <td>entrepreneur</td>\n",
              "      <td>married</td>\n",
              "      <td>secondary</td>\n",
              "      <td>no</td>\n",
              "      <td>2971</td>\n",
              "      <td>no</td>\n",
              "      <td>no</td>\n",
              "      <td>cellular</td>\n",
              "      <td>17</td>\n",
              "      <td>nov</td>\n",
              "      <td>361</td>\n",
              "      <td>2</td>\n",
              "      <td>188</td>\n",
              "      <td>11</td>\n",
              "      <td>other</td>\n",
              "      <td>no</td>\n",
              "    </tr>\n",
              "  </tbody>\n",
              "</table>\n",
              "</div>"
            ],
            "text/plain": [
              "       age           job   marital  education  ... pdays  previous poutcome Target\n",
              "45206   51    technician   married   tertiary  ...    -1         0  unknown    yes\n",
              "45207   71       retired  divorced    primary  ...    -1         0  unknown    yes\n",
              "45208   72       retired   married  secondary  ...   184         3  success    yes\n",
              "45209   57   blue-collar   married  secondary  ...    -1         0  unknown     no\n",
              "45210   37  entrepreneur   married  secondary  ...   188        11    other     no\n",
              "\n",
              "[5 rows x 17 columns]"
            ]
          },
          "metadata": {},
          "execution_count": 156
        }
      ]
    },
    {
      "cell_type": "markdown",
      "metadata": {
        "id": "tP3_ynPihQ57"
      },
      "source": [
        "# Exploratory Data Analysis"
      ]
    },
    {
      "cell_type": "markdown",
      "metadata": {
        "id": "6wvftqvzhQ59"
      },
      "source": [
        "## Shape of the data"
      ]
    },
    {
      "cell_type": "code",
      "metadata": {
        "colab": {
          "base_uri": "https://localhost:8080/"
        },
        "id": "g7HvxvmjhQ5_",
        "outputId": "ada97ff9-e65d-4f8a-e2ef-c1d8f60f9167"
      },
      "source": [
        "print('\\033[1m''Number of rows in dataframe',DataFrame.shape[0]) #for number of rows\n",
        "print('\\033[1m''Number of features in dataframe',DataFrame.shape[1]) #for number of features"
      ],
      "execution_count": null,
      "outputs": [
        {
          "output_type": "stream",
          "text": [
            "\u001b[1mNumber of rows in dataframe 45211\n",
            "\u001b[1mNumber of features in dataframe 17\n"
          ],
          "name": "stdout"
        }
      ]
    },
    {
      "cell_type": "markdown",
      "metadata": {
        "id": "s4opdKF9hQ6B"
      },
      "source": [
        "* The dataset has 45211 rows and 17 columns(features)"
      ]
    },
    {
      "cell_type": "markdown",
      "metadata": {
        "id": "McpbV1y5hQ6C"
      },
      "source": [
        "## Data type of each attribute"
      ]
    },
    {
      "cell_type": "code",
      "metadata": {
        "colab": {
          "base_uri": "https://localhost:8080/",
          "height": 135
        },
        "id": "D7WpXCirhQ6D",
        "outputId": "7a8e70e8-f878-4f66-f162-1fff4696dc83"
      },
      "source": [
        "DataFrame.dtypes.to_frame('Datatypes of attributes').T #for datatypes of attributes "
      ],
      "execution_count": null,
      "outputs": [
        {
          "output_type": "execute_result",
          "data": {
            "text/html": [
              "<div>\n",
              "<style scoped>\n",
              "    .dataframe tbody tr th:only-of-type {\n",
              "        vertical-align: middle;\n",
              "    }\n",
              "\n",
              "    .dataframe tbody tr th {\n",
              "        vertical-align: top;\n",
              "    }\n",
              "\n",
              "    .dataframe thead th {\n",
              "        text-align: right;\n",
              "    }\n",
              "</style>\n",
              "<table border=\"1\" class=\"dataframe\">\n",
              "  <thead>\n",
              "    <tr style=\"text-align: right;\">\n",
              "      <th></th>\n",
              "      <th>age</th>\n",
              "      <th>job</th>\n",
              "      <th>marital</th>\n",
              "      <th>education</th>\n",
              "      <th>default</th>\n",
              "      <th>balance</th>\n",
              "      <th>housing</th>\n",
              "      <th>loan</th>\n",
              "      <th>contact</th>\n",
              "      <th>day</th>\n",
              "      <th>month</th>\n",
              "      <th>duration</th>\n",
              "      <th>campaign</th>\n",
              "      <th>pdays</th>\n",
              "      <th>previous</th>\n",
              "      <th>poutcome</th>\n",
              "      <th>Target</th>\n",
              "    </tr>\n",
              "  </thead>\n",
              "  <tbody>\n",
              "    <tr>\n",
              "      <th>Datatypes of attributes</th>\n",
              "      <td>int64</td>\n",
              "      <td>object</td>\n",
              "      <td>object</td>\n",
              "      <td>object</td>\n",
              "      <td>object</td>\n",
              "      <td>int64</td>\n",
              "      <td>object</td>\n",
              "      <td>object</td>\n",
              "      <td>object</td>\n",
              "      <td>int64</td>\n",
              "      <td>object</td>\n",
              "      <td>int64</td>\n",
              "      <td>int64</td>\n",
              "      <td>int64</td>\n",
              "      <td>int64</td>\n",
              "      <td>object</td>\n",
              "      <td>object</td>\n",
              "    </tr>\n",
              "  </tbody>\n",
              "</table>\n",
              "</div>"
            ],
            "text/plain": [
              "                           age     job marital  ... previous poutcome  Target\n",
              "Datatypes of attributes  int64  object  object  ...    int64   object  object\n",
              "\n",
              "[1 rows x 17 columns]"
            ]
          },
          "metadata": {},
          "execution_count": 158
        }
      ]
    },
    {
      "cell_type": "markdown",
      "metadata": {
        "id": "YfYQ9trBhQ6F"
      },
      "source": [
        "* 10 features have object datatype and 7 have int datatype\n",
        "* As per given data we know that 10 features are of category type,so lets convert the datatype of those features"
      ]
    },
    {
      "cell_type": "code",
      "metadata": {
        "scrolled": true,
        "colab": {
          "base_uri": "https://localhost:8080/",
          "height": 135
        },
        "id": "9vdYeFy_hQ6G",
        "outputId": "f2e431ca-c580-4c2d-b725-b15d1d34b993"
      },
      "source": [
        "DataFrame[['job','marital','education','default','housing','loan','contact','month','poutcome','Target']] = DataFrame[['job','marital','education','default','housing','loan','contact','month','poutcome','Target']].apply(pd.Categorical)\n",
        "DataFrame.dtypes.to_frame('Datatypes of attributes').T #for datatypes of attributes"
      ],
      "execution_count": null,
      "outputs": [
        {
          "output_type": "execute_result",
          "data": {
            "text/html": [
              "<div>\n",
              "<style scoped>\n",
              "    .dataframe tbody tr th:only-of-type {\n",
              "        vertical-align: middle;\n",
              "    }\n",
              "\n",
              "    .dataframe tbody tr th {\n",
              "        vertical-align: top;\n",
              "    }\n",
              "\n",
              "    .dataframe thead th {\n",
              "        text-align: right;\n",
              "    }\n",
              "</style>\n",
              "<table border=\"1\" class=\"dataframe\">\n",
              "  <thead>\n",
              "    <tr style=\"text-align: right;\">\n",
              "      <th></th>\n",
              "      <th>age</th>\n",
              "      <th>job</th>\n",
              "      <th>marital</th>\n",
              "      <th>education</th>\n",
              "      <th>default</th>\n",
              "      <th>balance</th>\n",
              "      <th>housing</th>\n",
              "      <th>loan</th>\n",
              "      <th>contact</th>\n",
              "      <th>day</th>\n",
              "      <th>month</th>\n",
              "      <th>duration</th>\n",
              "      <th>campaign</th>\n",
              "      <th>pdays</th>\n",
              "      <th>previous</th>\n",
              "      <th>poutcome</th>\n",
              "      <th>Target</th>\n",
              "    </tr>\n",
              "  </thead>\n",
              "  <tbody>\n",
              "    <tr>\n",
              "      <th>Datatypes of attributes</th>\n",
              "      <td>int64</td>\n",
              "      <td>category</td>\n",
              "      <td>category</td>\n",
              "      <td>category</td>\n",
              "      <td>category</td>\n",
              "      <td>int64</td>\n",
              "      <td>category</td>\n",
              "      <td>category</td>\n",
              "      <td>category</td>\n",
              "      <td>int64</td>\n",
              "      <td>category</td>\n",
              "      <td>int64</td>\n",
              "      <td>int64</td>\n",
              "      <td>int64</td>\n",
              "      <td>int64</td>\n",
              "      <td>category</td>\n",
              "      <td>category</td>\n",
              "    </tr>\n",
              "  </tbody>\n",
              "</table>\n",
              "</div>"
            ],
            "text/plain": [
              "                           age       job   marital  ... previous  poutcome    Target\n",
              "Datatypes of attributes  int64  category  category  ...    int64  category  category\n",
              "\n",
              "[1 rows x 17 columns]"
            ]
          },
          "metadata": {},
          "execution_count": 159
        }
      ]
    },
    {
      "cell_type": "markdown",
      "metadata": {
        "id": "UEII47BzhQ6I"
      },
      "source": [
        "* After conversion of datatypes in above step\n",
        "* 10 features have category datatype and 7 have int datatype"
      ]
    },
    {
      "cell_type": "markdown",
      "metadata": {
        "id": "hQXytqXrhQ6K"
      },
      "source": [
        "## Checking the presence of missing values"
      ]
    },
    {
      "cell_type": "code",
      "metadata": {
        "colab": {
          "base_uri": "https://localhost:8080/"
        },
        "id": "oZQziUDkhQ6L",
        "outputId": "7c406b6b-87be-4b4f-90ee-7460c327718b"
      },
      "source": [
        "DataFrame.isnull().sum().to_frame('Presence of missing values').T #for checking presence of missing values"
      ],
      "execution_count": null,
      "outputs": [
        {
          "output_type": "execute_result",
          "data": {
            "text/html": [
              "<div>\n",
              "<style scoped>\n",
              "    .dataframe tbody tr th:only-of-type {\n",
              "        vertical-align: middle;\n",
              "    }\n",
              "\n",
              "    .dataframe tbody tr th {\n",
              "        vertical-align: top;\n",
              "    }\n",
              "\n",
              "    .dataframe thead th {\n",
              "        text-align: right;\n",
              "    }\n",
              "</style>\n",
              "<table border=\"1\" class=\"dataframe\">\n",
              "  <thead>\n",
              "    <tr style=\"text-align: right;\">\n",
              "      <th></th>\n",
              "      <th>age</th>\n",
              "      <th>job</th>\n",
              "      <th>marital</th>\n",
              "      <th>education</th>\n",
              "      <th>default</th>\n",
              "      <th>balance</th>\n",
              "      <th>housing</th>\n",
              "      <th>loan</th>\n",
              "      <th>contact</th>\n",
              "      <th>day</th>\n",
              "      <th>month</th>\n",
              "      <th>duration</th>\n",
              "      <th>campaign</th>\n",
              "      <th>pdays</th>\n",
              "      <th>previous</th>\n",
              "      <th>poutcome</th>\n",
              "      <th>Target</th>\n",
              "    </tr>\n",
              "  </thead>\n",
              "  <tbody>\n",
              "    <tr>\n",
              "      <th>Presence of missing values</th>\n",
              "      <td>0</td>\n",
              "      <td>0</td>\n",
              "      <td>0</td>\n",
              "      <td>0</td>\n",
              "      <td>0</td>\n",
              "      <td>0</td>\n",
              "      <td>0</td>\n",
              "      <td>0</td>\n",
              "      <td>0</td>\n",
              "      <td>0</td>\n",
              "      <td>0</td>\n",
              "      <td>0</td>\n",
              "      <td>0</td>\n",
              "      <td>0</td>\n",
              "      <td>0</td>\n",
              "      <td>0</td>\n",
              "      <td>0</td>\n",
              "    </tr>\n",
              "  </tbody>\n",
              "</table>\n",
              "</div>"
            ],
            "text/plain": [
              "                            age  job  marital  ...  previous  poutcome  Target\n",
              "Presence of missing values    0    0        0  ...         0         0       0\n",
              "\n",
              "[1 rows x 17 columns]"
            ]
          },
          "metadata": {},
          "execution_count": 160
        }
      ]
    },
    {
      "cell_type": "markdown",
      "metadata": {
        "id": "zlquikiPhQ6M"
      },
      "source": [
        "* In above cell, missing values are not found, so checking columns where unknown is mentioned\n",
        "* Checking columns which contain string data\n"
      ]
    },
    {
      "cell_type": "code",
      "metadata": {
        "colab": {
          "base_uri": "https://localhost:8080/"
        },
        "id": "zyl1oEdThQ6N",
        "outputId": "6b5533e1-53fa-45ad-b85f-236187fb5dd8"
      },
      "source": [
        "DataFrame['poutcome'].value_counts() #For count of unique values in poutcome"
      ],
      "execution_count": null,
      "outputs": [
        {
          "output_type": "execute_result",
          "data": {
            "text/plain": [
              "unknown    36959\n",
              "failure     4901\n",
              "other       1840\n",
              "success     1511\n",
              "Name: poutcome, dtype: int64"
            ]
          },
          "metadata": {},
          "execution_count": 161
        }
      ]
    },
    {
      "cell_type": "code",
      "metadata": {
        "colab": {
          "base_uri": "https://localhost:8080/"
        },
        "id": "3eivP2jNhQ6O",
        "outputId": "41206f37-2bfa-4c1a-ee48-03624adece6f"
      },
      "source": [
        "DataFrame['contact'].value_counts() #For count of unique values in contact"
      ],
      "execution_count": null,
      "outputs": [
        {
          "output_type": "execute_result",
          "data": {
            "text/plain": [
              "cellular     29285\n",
              "unknown      13020\n",
              "telephone     2906\n",
              "Name: contact, dtype: int64"
            ]
          },
          "metadata": {},
          "execution_count": 162
        }
      ]
    },
    {
      "cell_type": "code",
      "metadata": {
        "colab": {
          "base_uri": "https://localhost:8080/"
        },
        "id": "qi7IGXa3hQ6P",
        "outputId": "51a1e24a-265c-4433-cf02-ca3f9f6ac9df"
      },
      "source": [
        "DataFrame['education'].value_counts() #For count of unique values in education"
      ],
      "execution_count": null,
      "outputs": [
        {
          "output_type": "execute_result",
          "data": {
            "text/plain": [
              "secondary    23202\n",
              "tertiary     13301\n",
              "primary       6851\n",
              "unknown       1857\n",
              "Name: education, dtype: int64"
            ]
          },
          "metadata": {},
          "execution_count": 163
        }
      ]
    },
    {
      "cell_type": "code",
      "metadata": {
        "colab": {
          "base_uri": "https://localhost:8080/"
        },
        "id": "jP3uEavvhQ6Q",
        "outputId": "17537274-a837-416a-f9d3-2004568e5459"
      },
      "source": [
        "DataFrame['job'].value_counts() #For count of unique values in job"
      ],
      "execution_count": null,
      "outputs": [
        {
          "output_type": "execute_result",
          "data": {
            "text/plain": [
              "blue-collar      9732\n",
              "management       9458\n",
              "technician       7597\n",
              "admin.           5171\n",
              "services         4154\n",
              "retired          2264\n",
              "self-employed    1579\n",
              "entrepreneur     1487\n",
              "unemployed       1303\n",
              "housemaid        1240\n",
              "student           938\n",
              "unknown           288\n",
              "Name: job, dtype: int64"
            ]
          },
          "metadata": {},
          "execution_count": 164
        }
      ]
    },
    {
      "cell_type": "markdown",
      "metadata": {
        "id": "fRaP16u_hQ6S"
      },
      "source": [
        "* The dataset has unknown values in 'job','education','contact' and 'poutcome' columns"
      ]
    },
    {
      "cell_type": "markdown",
      "metadata": {
        "id": "m6EFXMoPhQ6T"
      },
      "source": [
        "##  5 point summary of numerical attribute"
      ]
    },
    {
      "cell_type": "code",
      "metadata": {
        "colab": {
          "base_uri": "https://localhost:8080/"
        },
        "id": "JXO4GaDGhQ6U",
        "outputId": "0d28b057-3cc0-4199-e0bf-d2d28d20c2b9"
      },
      "source": [
        "DataFrame.describe().T #for 5 point summary"
      ],
      "execution_count": null,
      "outputs": [
        {
          "output_type": "execute_result",
          "data": {
            "text/html": [
              "<div>\n",
              "<style scoped>\n",
              "    .dataframe tbody tr th:only-of-type {\n",
              "        vertical-align: middle;\n",
              "    }\n",
              "\n",
              "    .dataframe tbody tr th {\n",
              "        vertical-align: top;\n",
              "    }\n",
              "\n",
              "    .dataframe thead th {\n",
              "        text-align: right;\n",
              "    }\n",
              "</style>\n",
              "<table border=\"1\" class=\"dataframe\">\n",
              "  <thead>\n",
              "    <tr style=\"text-align: right;\">\n",
              "      <th></th>\n",
              "      <th>count</th>\n",
              "      <th>mean</th>\n",
              "      <th>std</th>\n",
              "      <th>min</th>\n",
              "      <th>25%</th>\n",
              "      <th>50%</th>\n",
              "      <th>75%</th>\n",
              "      <th>max</th>\n",
              "    </tr>\n",
              "  </thead>\n",
              "  <tbody>\n",
              "    <tr>\n",
              "      <th>age</th>\n",
              "      <td>45211.0</td>\n",
              "      <td>40.936210</td>\n",
              "      <td>10.618762</td>\n",
              "      <td>18.0</td>\n",
              "      <td>33.0</td>\n",
              "      <td>39.0</td>\n",
              "      <td>48.0</td>\n",
              "      <td>95.0</td>\n",
              "    </tr>\n",
              "    <tr>\n",
              "      <th>balance</th>\n",
              "      <td>45211.0</td>\n",
              "      <td>1362.272058</td>\n",
              "      <td>3044.765829</td>\n",
              "      <td>-8019.0</td>\n",
              "      <td>72.0</td>\n",
              "      <td>448.0</td>\n",
              "      <td>1428.0</td>\n",
              "      <td>102127.0</td>\n",
              "    </tr>\n",
              "    <tr>\n",
              "      <th>day</th>\n",
              "      <td>45211.0</td>\n",
              "      <td>15.806419</td>\n",
              "      <td>8.322476</td>\n",
              "      <td>1.0</td>\n",
              "      <td>8.0</td>\n",
              "      <td>16.0</td>\n",
              "      <td>21.0</td>\n",
              "      <td>31.0</td>\n",
              "    </tr>\n",
              "    <tr>\n",
              "      <th>duration</th>\n",
              "      <td>45211.0</td>\n",
              "      <td>258.163080</td>\n",
              "      <td>257.527812</td>\n",
              "      <td>0.0</td>\n",
              "      <td>103.0</td>\n",
              "      <td>180.0</td>\n",
              "      <td>319.0</td>\n",
              "      <td>4918.0</td>\n",
              "    </tr>\n",
              "    <tr>\n",
              "      <th>campaign</th>\n",
              "      <td>45211.0</td>\n",
              "      <td>2.763841</td>\n",
              "      <td>3.098021</td>\n",
              "      <td>1.0</td>\n",
              "      <td>1.0</td>\n",
              "      <td>2.0</td>\n",
              "      <td>3.0</td>\n",
              "      <td>63.0</td>\n",
              "    </tr>\n",
              "    <tr>\n",
              "      <th>pdays</th>\n",
              "      <td>45211.0</td>\n",
              "      <td>40.197828</td>\n",
              "      <td>100.128746</td>\n",
              "      <td>-1.0</td>\n",
              "      <td>-1.0</td>\n",
              "      <td>-1.0</td>\n",
              "      <td>-1.0</td>\n",
              "      <td>871.0</td>\n",
              "    </tr>\n",
              "    <tr>\n",
              "      <th>previous</th>\n",
              "      <td>45211.0</td>\n",
              "      <td>0.580323</td>\n",
              "      <td>2.303441</td>\n",
              "      <td>0.0</td>\n",
              "      <td>0.0</td>\n",
              "      <td>0.0</td>\n",
              "      <td>0.0</td>\n",
              "      <td>275.0</td>\n",
              "    </tr>\n",
              "  </tbody>\n",
              "</table>\n",
              "</div>"
            ],
            "text/plain": [
              "            count         mean          std  ...    50%     75%       max\n",
              "age       45211.0    40.936210    10.618762  ...   39.0    48.0      95.0\n",
              "balance   45211.0  1362.272058  3044.765829  ...  448.0  1428.0  102127.0\n",
              "day       45211.0    15.806419     8.322476  ...   16.0    21.0      31.0\n",
              "duration  45211.0   258.163080   257.527812  ...  180.0   319.0    4918.0\n",
              "campaign  45211.0     2.763841     3.098021  ...    2.0     3.0      63.0\n",
              "pdays     45211.0    40.197828   100.128746  ...   -1.0    -1.0     871.0\n",
              "previous  45211.0     0.580323     2.303441  ...    0.0     0.0     275.0\n",
              "\n",
              "[7 rows x 8 columns]"
            ]
          },
          "metadata": {},
          "execution_count": 165
        }
      ]
    },
    {
      "cell_type": "markdown",
      "metadata": {
        "id": "5fD82VsfhQ6V"
      },
      "source": [
        "### 5 point summary understanding:\n",
        "* Outliers are present in 'age', 'balance', 'duration', 'campaign', 'pdays' and 'previous' columns.\n",
        "* 'balance', 'duration', 'campaign', 'pdays' and 'previous' are right skewed.\n",
        "* More than 75% people have been contacted in a day after previous campaign as pdays is -1 till 75th precentile\n",
        "* Minimum balance is -8019 and maximum balance is 102127\n",
        "* Minimum age is 18 years and maximum is 95 years\n",
        "\n",
        "\n"
      ]
    },
    {
      "cell_type": "code",
      "metadata": {
        "colab": {
          "base_uri": "https://localhost:8080/"
        },
        "id": "tNnS5lG8hQ6W",
        "outputId": "7231cadf-7bce-4e42-c50e-00101c597d3a"
      },
      "source": [
        "DataFrame.loc[DataFrame['pdays'] == 999]"
      ],
      "execution_count": null,
      "outputs": [
        {
          "output_type": "execute_result",
          "data": {
            "text/html": [
              "<div>\n",
              "<style scoped>\n",
              "    .dataframe tbody tr th:only-of-type {\n",
              "        vertical-align: middle;\n",
              "    }\n",
              "\n",
              "    .dataframe tbody tr th {\n",
              "        vertical-align: top;\n",
              "    }\n",
              "\n",
              "    .dataframe thead th {\n",
              "        text-align: right;\n",
              "    }\n",
              "</style>\n",
              "<table border=\"1\" class=\"dataframe\">\n",
              "  <thead>\n",
              "    <tr style=\"text-align: right;\">\n",
              "      <th></th>\n",
              "      <th>age</th>\n",
              "      <th>job</th>\n",
              "      <th>marital</th>\n",
              "      <th>education</th>\n",
              "      <th>default</th>\n",
              "      <th>balance</th>\n",
              "      <th>housing</th>\n",
              "      <th>loan</th>\n",
              "      <th>contact</th>\n",
              "      <th>day</th>\n",
              "      <th>month</th>\n",
              "      <th>duration</th>\n",
              "      <th>campaign</th>\n",
              "      <th>pdays</th>\n",
              "      <th>previous</th>\n",
              "      <th>poutcome</th>\n",
              "      <th>Target</th>\n",
              "    </tr>\n",
              "  </thead>\n",
              "  <tbody>\n",
              "  </tbody>\n",
              "</table>\n",
              "</div>"
            ],
            "text/plain": [
              "Empty DataFrame\n",
              "Columns: [age, job, marital, education, default, balance, housing, loan, contact, day, month, duration, campaign, pdays, previous, poutcome, Target]\n",
              "Index: []"
            ]
          },
          "metadata": {},
          "execution_count": 166
        }
      ]
    },
    {
      "cell_type": "markdown",
      "metadata": {
        "id": "-mvzKlG5hQ6X"
      },
      "source": [
        "* All customers have been contacted previously"
      ]
    },
    {
      "cell_type": "markdown",
      "metadata": {
        "id": "rnN-sqdrhQ6Y"
      },
      "source": [
        "## Distribution of numerical columns."
      ]
    },
    {
      "cell_type": "code",
      "metadata": {
        "colab": {
          "base_uri": "https://localhost:8080/"
        },
        "id": "XpBnCFk0hQ6a",
        "outputId": "fb32e8b8-0208-45a7-e785-7dc971ba6116"
      },
      "source": [
        "fig, axe = plt.subplots(nrows=4, ncols=2, figsize=(10, 15)) \n",
        "axe = axe.flatten() #to flatten subplot index positions\n",
        "sns.distplot(DataFrame['age'],ax=axe[0]) #Distance plot of 'age'\n",
        "sns.distplot(DataFrame['balance'],ax=axe[1]) #Distance plot of 'balance'\n",
        "sns.distplot(DataFrame['day'],ax=axe[2]) #Distance plot of 'day'\n",
        "sns.distplot(DataFrame['duration'],ax=axe[3]) #Distance plot of 'duration'\n",
        "sns.distplot(DataFrame['campaign'],ax=axe[4]) #Distance plot of 'campaign'\n",
        "sns.distplot(DataFrame['pdays'],ax=axe[5]) #Distance plot of 'pdays'\n",
        "sns.distplot(DataFrame['previous'],ax=axe[6]) #Distance plot of 'previous'\n",
        "fig.tight_layout() #for arranging the plots\n",
        "fig.show() #display plots\n",
        "axe.flat[-1].set_visible(False)"
      ],
      "execution_count": null,
      "outputs": [
        {
          "output_type": "stream",
          "text": [
            "/usr/local/lib/python3.7/dist-packages/seaborn/distributions.py:2557: FutureWarning: `distplot` is a deprecated function and will be removed in a future version. Please adapt your code to use either `displot` (a figure-level function with similar flexibility) or `histplot` (an axes-level function for histograms).\n",
            "  warnings.warn(msg, FutureWarning)\n",
            "/usr/local/lib/python3.7/dist-packages/seaborn/distributions.py:2557: FutureWarning: `distplot` is a deprecated function and will be removed in a future version. Please adapt your code to use either `displot` (a figure-level function with similar flexibility) or `histplot` (an axes-level function for histograms).\n",
            "  warnings.warn(msg, FutureWarning)\n",
            "/usr/local/lib/python3.7/dist-packages/seaborn/distributions.py:2557: FutureWarning: `distplot` is a deprecated function and will be removed in a future version. Please adapt your code to use either `displot` (a figure-level function with similar flexibility) or `histplot` (an axes-level function for histograms).\n",
            "  warnings.warn(msg, FutureWarning)\n",
            "/usr/local/lib/python3.7/dist-packages/seaborn/distributions.py:2557: FutureWarning: `distplot` is a deprecated function and will be removed in a future version. Please adapt your code to use either `displot` (a figure-level function with similar flexibility) or `histplot` (an axes-level function for histograms).\n",
            "  warnings.warn(msg, FutureWarning)\n",
            "/usr/local/lib/python3.7/dist-packages/seaborn/distributions.py:2557: FutureWarning: `distplot` is a deprecated function and will be removed in a future version. Please adapt your code to use either `displot` (a figure-level function with similar flexibility) or `histplot` (an axes-level function for histograms).\n",
            "  warnings.warn(msg, FutureWarning)\n",
            "/usr/local/lib/python3.7/dist-packages/seaborn/distributions.py:2557: FutureWarning: `distplot` is a deprecated function and will be removed in a future version. Please adapt your code to use either `displot` (a figure-level function with similar flexibility) or `histplot` (an axes-level function for histograms).\n",
            "  warnings.warn(msg, FutureWarning)\n",
            "/usr/local/lib/python3.7/dist-packages/seaborn/distributions.py:2557: FutureWarning: `distplot` is a deprecated function and will be removed in a future version. Please adapt your code to use either `displot` (a figure-level function with similar flexibility) or `histplot` (an axes-level function for histograms).\n",
            "  warnings.warn(msg, FutureWarning)\n"
          ],
          "name": "stderr"
        },
        {
          "output_type": "display_data",
          "data": {
            "image/png": "[encoded data removed]",
            "text/plain": [
              "<Figure size 720x1080 with 8 Axes>"
            ]
          },
          "metadata": {
            "needs_background": "light"
          }
        }
      ]
    },
    {
      "cell_type": "markdown",
      "metadata": {
        "id": "VKx9TylLhQ6b"
      },
      "source": [
        "### Understanding from distributions\n",
        "* 'balance', 'duration', 'campaign', 'pdays' and 'previous' are right skewed.\n",
        "* 'age' is somewhat normally distributed\n",
        "\n"
      ]
    },
    {
      "cell_type": "markdown",
      "metadata": {
        "id": "3A1Wly-UhQ6d"
      },
      "source": [
        "## Distribution of Categorical columns."
      ]
    },
    {
      "cell_type": "code",
      "metadata": {
        "colab": {
          "base_uri": "https://localhost:8080/"
        },
        "id": "fTTl-rgjhQ6e",
        "outputId": "253f7196-df1d-443b-d0f0-2eb45ccfd093"
      },
      "source": [
        "fig, axe = plt.subplots(nrows=5, ncols=2, figsize=(10, 18)) \n",
        "axe = axe.flatten() #to flatten subplot index positions\n",
        "plot=sns.countplot(x=DataFrame['job'],data=DataFrame,ax=axe[0]) #Countplot of 'job' \n",
        "plt.setp(plot.get_xticklabels(), rotation=90)\n",
        "sns.countplot(x=DataFrame['marital'],data=DataFrame,ax=axe[1]) #Countplot of 'marital' \n",
        "sns.countplot(x=DataFrame['education'],data=DataFrame,ax=axe[2]) #Countplot of 'education' \n",
        "sns.countplot(x=DataFrame['default'],data=DataFrame,ax=axe[3]) #Countplot of 'default' \n",
        "sns.countplot(x=DataFrame['housing'],data=DataFrame,ax=axe[4]) #Countplot of 'housing' \n",
        "sns.countplot(x=DataFrame['loan'],data=DataFrame,ax=axe[5]) #Countplot of 'loan' \n",
        "sns.countplot(x=DataFrame['contact'],data=DataFrame,ax=axe[6]) #Countplot of 'contact' \n",
        "sns.countplot(x=DataFrame['month'],data=DataFrame,ax=axe[7]) #Countplot of 'month' \n",
        "sns.countplot(x=DataFrame['poutcome'],data=DataFrame,ax=axe[8]) #Countplot of 'poutcome' \n",
        "sns.countplot(x=DataFrame['Target'],data=DataFrame,ax=axe[9]) #Countplot of 'target' \n",
        "fig.tight_layout() #for arranging the plots\n",
        "fig.show() #display plots\n"
      ],
      "execution_count": null,
      "outputs": [
        {
          "output_type": "display_data",
          "data": {
            "image/png": "[encoded data removed]",
            "text/plain": [
              "<Figure size 720x1296 with 10 Axes>"
            ]
          },
          "metadata": {
            "needs_background": "light"
          }
        }
      ]
    },
    {
      "cell_type": "markdown",
      "metadata": {
        "id": "wbIYXCORhQ6g"
      },
      "source": [
        " ### Understanding from distributions\n",
        "* More than 90% customers have no default credit\n",
        "* Around 88% customers have not subscribed for term deposit\n",
        "* Most customers have been contacted in may\n",
        "* Most customers have been contacted by cellular network(mobile phone)\n",
        "* Number of customers who have housing loan is more than the number of customers who don't have housing loan\n",
        "* Around 6% customers have credit in default\n"
      ]
    },
    {
      "cell_type": "markdown",
      "metadata": {
        "id": "44No9dnGhQ6h"
      },
      "source": [
        "\n",
        "## Measure of skewness of numerical columns"
      ]
    },
    {
      "cell_type": "code",
      "metadata": {
        "colab": {
          "base_uri": "https://localhost:8080/"
        },
        "id": "n8Os_NBQhQ6i",
        "outputId": "59a2eedd-c145-4b41-fcef-833cc51d4a08"
      },
      "source": [
        "DataFrame.skew().to_frame('Skewness measure').T #for measure of skewness"
      ],
      "execution_count": null,
      "outputs": [
        {
          "output_type": "execute_result",
          "data": {
            "text/html": [
              "<div>\n",
              "<style scoped>\n",
              "    .dataframe tbody tr th:only-of-type {\n",
              "        vertical-align: middle;\n",
              "    }\n",
              "\n",
              "    .dataframe tbody tr th {\n",
              "        vertical-align: top;\n",
              "    }\n",
              "\n",
              "    .dataframe thead th {\n",
              "        text-align: right;\n",
              "    }\n",
              "</style>\n",
              "<table border=\"1\" class=\"dataframe\">\n",
              "  <thead>\n",
              "    <tr style=\"text-align: right;\">\n",
              "      <th></th>\n",
              "      <th>age</th>\n",
              "      <th>balance</th>\n",
              "      <th>day</th>\n",
              "      <th>duration</th>\n",
              "      <th>campaign</th>\n",
              "      <th>pdays</th>\n",
              "      <th>previous</th>\n",
              "    </tr>\n",
              "  </thead>\n",
              "  <tbody>\n",
              "    <tr>\n",
              "      <th>Skewness measure</th>\n",
              "      <td>0.684818</td>\n",
              "      <td>8.360308</td>\n",
              "      <td>0.093079</td>\n",
              "      <td>3.144318</td>\n",
              "      <td>4.89865</td>\n",
              "      <td>2.615715</td>\n",
              "      <td>41.846454</td>\n",
              "    </tr>\n",
              "  </tbody>\n",
              "</table>\n",
              "</div>"
            ],
            "text/plain": [
              "                       age   balance       day  ...  campaign     pdays   previous\n",
              "Skewness measure  0.684818  8.360308  0.093079  ...   4.89865  2.615715  41.846454\n",
              "\n",
              "[1 rows x 7 columns]"
            ]
          },
          "metadata": {},
          "execution_count": 169
        }
      ]
    },
    {
      "cell_type": "markdown",
      "metadata": {
        "id": "XnbkXx3UhQ6k"
      },
      "source": [
        "## Checking the presence of outliers "
      ]
    },
    {
      "cell_type": "code",
      "metadata": {
        "colab": {
          "base_uri": "https://localhost:8080/"
        },
        "id": "4F8bnFZ3hQ6l",
        "outputId": "c6f31248-83be-4c22-ec2e-a3a1d1beb09d"
      },
      "source": [
        "fig, axe = plt.subplots(nrows=4, ncols=2, figsize=(10, 12))\n",
        "axe = axe.flatten()#to flatten subplot index positions\n",
        "sns.boxplot(x='age',data=DataFrame,color='springgreen',ax=axe[0]) #Box plot of 'ID' for finding outliers \n",
        "sns.boxplot(x='balance',data=DataFrame,color='springgreen',ax=axe[1]) #Box plot of 'Family' \n",
        "sns.boxplot(x='day',data=DataFrame,color='springgreen',ax=axe[2]) #Box plot of 'Personal Loan' \n",
        "sns.boxplot(x='duration',data=DataFrame,color='springgreen',ax=axe[3]) #Box plot of 'CD Account' \n",
        "sns.boxplot(x='campaign',data=DataFrame,color='springgreen',ax=axe[4]) #Box plot of 'Online' \n",
        "sns.boxplot(x='pdays',data=DataFrame,color='springgreen',ax=axe[5]) #Box plot of 'CreditCard'\n",
        "sns.boxplot(x='previous',data=DataFrame,color='springgreen',ax=axe[6]) #Box plot of 'CreditCard' \n",
        "fig.tight_layout() #for arranging the plots\n",
        "fig.show() #display plots\n",
        "axe.flat[-1].set_visible(False)"
      ],
      "execution_count": null,
      "outputs": [
        {
          "output_type": "display_data",
          "data": {
            "image/png": "[encoded data removed]",
            "text/plain": [
              "<Figure size 720x864 with 8 Axes>"
            ]
          },
          "metadata": {
            "needs_background": "light"
          }
        }
      ]
    },
    {
      "cell_type": "markdown",
      "metadata": {
        "id": "R8SetEjlhQ6m"
      },
      "source": [
        "### Understanding from boxplots\n",
        "* Prove the existance of outliers in 'age', 'balance', 'duration', 'campaign', 'pdays' and 'previous' columns.\n",
        "* Values less than 0 are present in 'Balance' column"
      ]
    },
    {
      "cell_type": "markdown",
      "metadata": {
        "id": "jXpw9l-jhQ6p"
      },
      "source": [
        "## Distribution of Target column"
      ]
    },
    {
      "cell_type": "code",
      "metadata": {
        "colab": {
          "base_uri": "https://localhost:8080/"
        },
        "id": "-1u6TDz8hQ6q",
        "outputId": "79cc5863-4060-43fa-d358-2742f613d6cf"
      },
      "source": [
        "DataFrame['Target'].value_counts().to_frame('Target column distriution') # Value counts of Target column"
      ],
      "execution_count": null,
      "outputs": [
        {
          "output_type": "execute_result",
          "data": {
            "text/html": [
              "<div>\n",
              "<style scoped>\n",
              "    .dataframe tbody tr th:only-of-type {\n",
              "        vertical-align: middle;\n",
              "    }\n",
              "\n",
              "    .dataframe tbody tr th {\n",
              "        vertical-align: top;\n",
              "    }\n",
              "\n",
              "    .dataframe thead th {\n",
              "        text-align: right;\n",
              "    }\n",
              "</style>\n",
              "<table border=\"1\" class=\"dataframe\">\n",
              "  <thead>\n",
              "    <tr style=\"text-align: right;\">\n",
              "      <th></th>\n",
              "      <th>Target column distriution</th>\n",
              "    </tr>\n",
              "  </thead>\n",
              "  <tbody>\n",
              "    <tr>\n",
              "      <th>no</th>\n",
              "      <td>39922</td>\n",
              "    </tr>\n",
              "    <tr>\n",
              "      <th>yes</th>\n",
              "      <td>5289</td>\n",
              "    </tr>\n",
              "  </tbody>\n",
              "</table>\n",
              "</div>"
            ],
            "text/plain": [
              "     Target column distriution\n",
              "no                       39922\n",
              "yes                       5289"
            ]
          },
          "metadata": {},
          "execution_count": 171
        }
      ]
    },
    {
      "cell_type": "markdown",
      "metadata": {
        "id": "AXtIBaDFhQ6r"
      },
      "source": [
        "* From above values it can be stated that the dataset is imbalanced."
      ]
    },
    {
      "cell_type": "markdown",
      "metadata": {
        "id": "1VxfIn-bhQ6t"
      },
      "source": [
        "# Data Preprocessing:"
      ]
    },
    {
      "cell_type": "markdown",
      "metadata": {
        "id": "IfPC9455hQ6u"
      },
      "source": [
        "## Label Encoding of variables"
      ]
    },
    {
      "cell_type": "code",
      "metadata": {
        "colab": {
          "base_uri": "https://localhost:8080/"
        },
        "id": "RWz7iQb-hQ6v",
        "outputId": "55501585-520b-4a14-b20a-b4646977a52a"
      },
      "source": [
        "df_2 = DataFrame.copy() #making a copy of dataframe 'df_2'\n",
        "encoder = LabelEncoder() #creating object of LabelEncoder \n",
        "df_2['default'] = encoder.fit_transform(df_2['default']).astype(int) #encoding 'default' column \n",
        "df_2['marital'] = encoder.fit_transform(df_2['marital']).astype(int) #encoding 'marital' column and assigning 1 married, 2 divorced and 3 single \n",
        "df_2['loan'] = encoder.fit_transform(df_2['loan']).astype(int) #encoding 'loan' column and assigning 0 no and 1 yes values\n",
        "df_2['housing'] = encoder.fit_transform(df_2['housing']).astype(int) #encoding 'housing' column and assigning 0 no and 1 yes values\n",
        "df_2['Target'] = encoder.fit_transform(df_2['Target']).astype(int) #encoding 'target' column and assigning 0 no and 1 yes values\n",
        "df_2['month'] = encoder.fit_transform(df_2['month']).astype(int)#encoding 'month' column and assigning 0-11 values\n",
        "df_2['poutcome'] = encoder.fit_transform(df_2['poutcome']).astype(int)#encoding 'month' column and assigning 0-11 values\n",
        "df_2['education'] = encoder.fit_transform(df_2['education']).astype(int)#encoding 'month' column and assigning 0-11 values\n",
        "df_2.head() #displaying head of encoded dataframe"
      ],
      "execution_count": null,
      "outputs": [
        {
          "output_type": "execute_result",
          "data": {
            "text/html": [
              "<div>\n",
              "<style scoped>\n",
              "    .dataframe tbody tr th:only-of-type {\n",
              "        vertical-align: middle;\n",
              "    }\n",
              "\n",
              "    .dataframe tbody tr th {\n",
              "        vertical-align: top;\n",
              "    }\n",
              "\n",
              "    .dataframe thead th {\n",
              "        text-align: right;\n",
              "    }\n",
              "</style>\n",
              "<table border=\"1\" class=\"dataframe\">\n",
              "  <thead>\n",
              "    <tr style=\"text-align: right;\">\n",
              "      <th></th>\n",
              "      <th>age</th>\n",
              "      <th>job</th>\n",
              "      <th>marital</th>\n",
              "      <th>education</th>\n",
              "      <th>default</th>\n",
              "      <th>balance</th>\n",
              "      <th>housing</th>\n",
              "      <th>loan</th>\n",
              "      <th>contact</th>\n",
              "      <th>day</th>\n",
              "      <th>month</th>\n",
              "      <th>duration</th>\n",
              "      <th>campaign</th>\n",
              "      <th>pdays</th>\n",
              "      <th>previous</th>\n",
              "      <th>poutcome</th>\n",
              "      <th>Target</th>\n",
              "    </tr>\n",
              "  </thead>\n",
              "  <tbody>\n",
              "    <tr>\n",
              "      <th>0</th>\n",
              "      <td>58</td>\n",
              "      <td>management</td>\n",
              "      <td>1</td>\n",
              "      <td>2</td>\n",
              "      <td>0</td>\n",
              "      <td>2143</td>\n",
              "      <td>1</td>\n",
              "      <td>0</td>\n",
              "      <td>unknown</td>\n",
              "      <td>5</td>\n",
              "      <td>8</td>\n",
              "      <td>261</td>\n",
              "      <td>1</td>\n",
              "      <td>-1</td>\n",
              "      <td>0</td>\n",
              "      <td>3</td>\n",
              "      <td>0</td>\n",
              "    </tr>\n",
              "    <tr>\n",
              "      <th>1</th>\n",
              "      <td>44</td>\n",
              "      <td>technician</td>\n",
              "      <td>2</td>\n",
              "      <td>1</td>\n",
              "      <td>0</td>\n",
              "      <td>29</td>\n",
              "      <td>1</td>\n",
              "      <td>0</td>\n",
              "      <td>unknown</td>\n",
              "      <td>5</td>\n",
              "      <td>8</td>\n",
              "      <td>151</td>\n",
              "      <td>1</td>\n",
              "      <td>-1</td>\n",
              "      <td>0</td>\n",
              "      <td>3</td>\n",
              "      <td>0</td>\n",
              "    </tr>\n",
              "    <tr>\n",
              "      <th>2</th>\n",
              "      <td>33</td>\n",
              "      <td>entrepreneur</td>\n",
              "      <td>1</td>\n",
              "      <td>1</td>\n",
              "      <td>0</td>\n",
              "      <td>2</td>\n",
              "      <td>1</td>\n",
              "      <td>1</td>\n",
              "      <td>unknown</td>\n",
              "      <td>5</td>\n",
              "      <td>8</td>\n",
              "      <td>76</td>\n",
              "      <td>1</td>\n",
              "      <td>-1</td>\n",
              "      <td>0</td>\n",
              "      <td>3</td>\n",
              "      <td>0</td>\n",
              "    </tr>\n",
              "    <tr>\n",
              "      <th>3</th>\n",
              "      <td>47</td>\n",
              "      <td>blue-collar</td>\n",
              "      <td>1</td>\n",
              "      <td>3</td>\n",
              "      <td>0</td>\n",
              "      <td>1506</td>\n",
              "      <td>1</td>\n",
              "      <td>0</td>\n",
              "      <td>unknown</td>\n",
              "      <td>5</td>\n",
              "      <td>8</td>\n",
              "      <td>92</td>\n",
              "      <td>1</td>\n",
              "      <td>-1</td>\n",
              "      <td>0</td>\n",
              "      <td>3</td>\n",
              "      <td>0</td>\n",
              "    </tr>\n",
              "    <tr>\n",
              "      <th>4</th>\n",
              "      <td>33</td>\n",
              "      <td>unknown</td>\n",
              "      <td>2</td>\n",
              "      <td>3</td>\n",
              "      <td>0</td>\n",
              "      <td>1</td>\n",
              "      <td>0</td>\n",
              "      <td>0</td>\n",
              "      <td>unknown</td>\n",
              "      <td>5</td>\n",
              "      <td>8</td>\n",
              "      <td>198</td>\n",
              "      <td>1</td>\n",
              "      <td>-1</td>\n",
              "      <td>0</td>\n",
              "      <td>3</td>\n",
              "      <td>0</td>\n",
              "    </tr>\n",
              "  </tbody>\n",
              "</table>\n",
              "</div>"
            ],
            "text/plain": [
              "   age           job  marital  education  ...  pdays  previous  poutcome  Target\n",
              "0   58    management        1          2  ...     -1         0         3       0\n",
              "1   44    technician        2          1  ...     -1         0         3       0\n",
              "2   33  entrepreneur        1          1  ...     -1         0         3       0\n",
              "3   47   blue-collar        1          3  ...     -1         0         3       0\n",
              "4   33       unknown        2          3  ...     -1         0         3       0\n",
              "\n",
              "[5 rows x 17 columns]"
            ]
          },
          "metadata": {},
          "execution_count": 172
        }
      ]
    },
    {
      "cell_type": "markdown",
      "metadata": {
        "id": "YBcQL_OwhQ6x"
      },
      "source": [
        "## Checking & modifying datatypes after Label Encoding"
      ]
    },
    {
      "cell_type": "code",
      "metadata": {
        "colab": {
          "base_uri": "https://localhost:8080/"
        },
        "id": "DyvpwvYphQ6x",
        "outputId": "2508e7bd-2d68-4161-83bc-0bc77aad8d61"
      },
      "source": [
        "df_2.info()"
      ],
      "execution_count": null,
      "outputs": [
        {
          "output_type": "stream",
          "text": [
            "<class 'pandas.core.frame.DataFrame'>\n",
            "RangeIndex: 45211 entries, 0 to 45210\n",
            "Data columns (total 17 columns):\n",
            " #   Column     Non-Null Count  Dtype   \n",
            "---  ------     --------------  -----   \n",
            " 0   age        45211 non-null  int64   \n",
            " 1   job        45211 non-null  category\n",
            " 2   marital    45211 non-null  int64   \n",
            " 3   education  45211 non-null  int64   \n",
            " 4   default    45211 non-null  int64   \n",
            " 5   balance    45211 non-null  int64   \n",
            " 6   housing    45211 non-null  int64   \n",
            " 7   loan       45211 non-null  int64   \n",
            " 8   contact    45211 non-null  category\n",
            " 9   day        45211 non-null  int64   \n",
            " 10  month      45211 non-null  int64   \n",
            " 11  duration   45211 non-null  int64   \n",
            " 12  campaign   45211 non-null  int64   \n",
            " 13  pdays      45211 non-null  int64   \n",
            " 14  previous   45211 non-null  int64   \n",
            " 15  poutcome   45211 non-null  int64   \n",
            " 16  Target     45211 non-null  int64   \n",
            "dtypes: category(2), int64(15)\n",
            "memory usage: 5.3 MB\n"
          ],
          "name": "stdout"
        }
      ]
    },
    {
      "cell_type": "code",
      "metadata": {
        "id": "guLFViX-hQ6z"
      },
      "source": [
        "df_2[['job','marital','education','default','housing','loan','contact','month','poutcome','Target']] = df_2[['job','marital','education','default','housing','loan','contact','month','poutcome','Target']].apply(pd.Categorical)\n",
        "#changing datatypes of attributes"
      ],
      "execution_count": null,
      "outputs": []
    },
    {
      "cell_type": "code",
      "metadata": {
        "colab": {
          "base_uri": "https://localhost:8080/"
        },
        "id": "dxeEU5q6hQ60",
        "outputId": "b78fbebe-1d18-4e65-a729-73fc79399691"
      },
      "source": [
        "df_2.info()"
      ],
      "execution_count": null,
      "outputs": [
        {
          "output_type": "stream",
          "text": [
            "<class 'pandas.core.frame.DataFrame'>\n",
            "RangeIndex: 45211 entries, 0 to 45210\n",
            "Data columns (total 17 columns):\n",
            " #   Column     Non-Null Count  Dtype   \n",
            "---  ------     --------------  -----   \n",
            " 0   age        45211 non-null  int64   \n",
            " 1   job        45211 non-null  category\n",
            " 2   marital    45211 non-null  category\n",
            " 3   education  45211 non-null  category\n",
            " 4   default    45211 non-null  category\n",
            " 5   balance    45211 non-null  int64   \n",
            " 6   housing    45211 non-null  category\n",
            " 7   loan       45211 non-null  category\n",
            " 8   contact    45211 non-null  category\n",
            " 9   day        45211 non-null  int64   \n",
            " 10  month      45211 non-null  category\n",
            " 11  duration   45211 non-null  int64   \n",
            " 12  campaign   45211 non-null  int64   \n",
            " 13  pdays      45211 non-null  int64   \n",
            " 14  previous   45211 non-null  int64   \n",
            " 15  poutcome   45211 non-null  category\n",
            " 16  Target     45211 non-null  category\n",
            "dtypes: category(10), int64(7)\n",
            "memory usage: 2.8 MB\n"
          ],
          "name": "stdout"
        }
      ]
    },
    {
      "cell_type": "markdown",
      "metadata": {
        "id": "f4Kl1zmDhQ61"
      },
      "source": [
        "## Handeling Outliers with mean replacement"
      ]
    },
    {
      "cell_type": "code",
      "metadata": {
        "colab": {
          "base_uri": "https://localhost:8080/"
        },
        "id": "UsBTliPShQ62",
        "outputId": "1e4296b5-cf84-4667-b50f-3cdc5f4b2fc0"
      },
      "source": [
        "meanbal = float(df_2['balance'].mean()) #mean balance\n",
        "df_2['balance'] = np.where(df_2['balance'] >np.percentile(df_2['balance'], 75), meanbal,df_2['balance']) #replacing with mean\n",
        "\n",
        "meandur = float(df_2['duration'].mean()) #mean duration\n",
        "df_2['duration'] = np.where(df_2['duration'] >np.percentile(df_2['duration'], 75), meandur,df_2['duration'])#replacing with mean\n",
        "\n",
        "meancam = float(df_2['campaign'].mean()) #mean campaign\n",
        "df_2['campaign'] = np.where(df_2['campaign'] >np.percentile(df_2['campaign'], 75), meancam,df_2['campaign'])#replacing with mean\n",
        "\n",
        "meanpd = float(df_2['pdays'].mean()) #mean pdays\n",
        "df_2['pdays'] = np.where(df_2['pdays'] >np.percentile(df_2['pdays'], 75), meanpd,df_2['pdays'])#replacing with mean\n",
        "\n",
        "meanpr = float(df_2['previous'].mean()) #mean previous\n",
        "df_2['previous'] = np.where(df_2['previous'] >np.percentile(df_2['previous'], 75),meanpr ,df_2['previous'])#replacing with mean\n",
        "\n",
        "\n",
        "\n",
        "fig, axe = plt.subplots(nrows=4, ncols=2, figsize=(10, 12))\n",
        "axe = axe.flatten()#to flatten subplot index positions\n",
        "sns.boxplot(x='age',data=df_2,color='springgreen',ax=axe[0]) #Box plot of 'ID' for finding outliers \n",
        "sns.boxplot(x='balance',data=df_2,color='springgreen',ax=axe[1]) #Box plot of 'Family' \n",
        "sns.boxplot(x='day',data=df_2,color='springgreen',ax=axe[2]) #Box plot of 'Personal Loan' \n",
        "sns.boxplot(x='duration',data=df_2,color='springgreen',ax=axe[3]) #Box plot of 'CD Account' \n",
        "sns.boxplot(x='campaign',data=df_2,color='springgreen',ax=axe[4]) #Box plot of 'Online' \n",
        "sns.boxplot(x='pdays',data=df_2,color='springgreen',ax=axe[5]) #Box plot of 'CreditCard'\n",
        "sns.boxplot(x='previous',data=df_2,color='springgreen',ax=axe[6]) #Box plot of 'CreditCard' \n",
        "fig.tight_layout() #for arranging the plots\n",
        "fig.show() #display plots\n",
        "axe.flat[-1].set_visible(False)\n",
        "print('\\033[1m''Boxplots after handeling outliers')"
      ],
      "execution_count": null,
      "outputs": [
        {
          "output_type": "stream",
          "text": [
            "\u001b[1mBoxplots after handeling outliers\n"
          ],
          "name": "stdout"
        },
        {
          "output_type": "display_data",
          "data": {
            "image/png": "[encoded data removed]",
            "text/plain": [
              "<Figure size 720x864 with 8 Axes>"
            ]
          },
          "metadata": {
            "needs_background": "light"
          }
        }
      ]
    },
    {
      "cell_type": "markdown",
      "metadata": {
        "id": "8ABNTNZ7hQ63"
      },
      "source": [
        "### Understanding from boxplots after handeling outliers\n",
        "* Outliers in 'age' column are not handled because it is a specific value for each record.\n",
        "* After handeling Outliers in 'balance', the number of outliers on the lower side is increased.\n"
      ]
    },
    {
      "cell_type": "code",
      "metadata": {
        "id": "7UvXT3TMhQ64"
      },
      "source": [
        "#df_2 = pd.get_dummies(df_2,columns=['housing','default','loan','poutcome'])"
      ],
      "execution_count": null,
      "outputs": []
    },
    {
      "cell_type": "markdown",
      "metadata": {
        "id": "ENasXZ4uhQ65"
      },
      "source": [
        "## Corr plot of all features"
      ]
    },
    {
      "cell_type": "code",
      "metadata": {
        "colab": {
          "base_uri": "https://localhost:8080/"
        },
        "id": "WOOUPUKghQ66",
        "outputId": "8d203494-32c3-48c5-9bd1-5c18455fd109"
      },
      "source": [
        "plt.figure(figsize=(15,10)) #for adjusting figuresize\n",
        "sns.heatmap(df_2.corr(),annot=True) #for correlation plot"
      ],
      "execution_count": null,
      "outputs": [
        {
          "output_type": "execute_result",
          "data": {
            "text/plain": [
              "<matplotlib.axes._subplots.AxesSubplot at 0x7f064f629450>"
            ]
          },
          "metadata": {},
          "execution_count": 178
        },
        {
          "output_type": "display_data",
          "data": {
            "image/png": "[encoded data removed]",
            "text/plain": [
              "<Figure size 1080x720 with 2 Axes>"
            ]
          },
          "metadata": {
            "needs_background": "light"
          }
        }
      ]
    },
    {
      "cell_type": "markdown",
      "metadata": {
        "id": "ghwvl7rUhQ67"
      },
      "source": [
        "### Understanding from above corrp plot:\n",
        "\n",
        "* 'pdays' and 'previous' are highly correlated"
      ]
    },
    {
      "cell_type": "markdown",
      "metadata": {
        "id": "-OFflkszhQ68"
      },
      "source": [
        "## Removing columns:\n",
        "\n",
        "* 'job','education' and 'contact' attributes contain multiple unknown values.\n",
        "* As they are specific string values and not numerical so cannot be treated with median, mean replacement\n",
        "* As per data description, duration attribute is removed to have a realistic prediction.\n",
        "* 'day' and 'month' of contact will not have any realtionship with customer opting for subscription\n",
        "* 'pdays' and 'previous' are highly correlated so removing any one from both of them.\n",
        "*  Even though 'poutcome' has a huge number of 'Unknown' values, it is kept because 'poutcome' is outcome of the previous marketing campaign. Which can help in better training and testing of models."
      ]
    },
    {
      "cell_type": "code",
      "metadata": {
        "colab": {
          "base_uri": "https://localhost:8080/"
        },
        "id": "6bqjzqHShQ6-",
        "outputId": "ad6b90f6-99d2-4ae4-f862-239479ceb4c0"
      },
      "source": [
        "df_2 = df_2.drop(['job','education','contact','duration','pdays','day','month'],axis=1) #Dropping 'job','education','contact','poutcome','duration','day','month' columns\n",
        "df_2.head() #Head of updated dataframe"
      ],
      "execution_count": null,
      "outputs": [
        {
          "output_type": "execute_result",
          "data": {
            "text/html": [
              "<div>\n",
              "<style scoped>\n",
              "    .dataframe tbody tr th:only-of-type {\n",
              "        vertical-align: middle;\n",
              "    }\n",
              "\n",
              "    .dataframe tbody tr th {\n",
              "        vertical-align: top;\n",
              "    }\n",
              "\n",
              "    .dataframe thead th {\n",
              "        text-align: right;\n",
              "    }\n",
              "</style>\n",
              "<table border=\"1\" class=\"dataframe\">\n",
              "  <thead>\n",
              "    <tr style=\"text-align: right;\">\n",
              "      <th></th>\n",
              "      <th>age</th>\n",
              "      <th>marital</th>\n",
              "      <th>default</th>\n",
              "      <th>balance</th>\n",
              "      <th>housing</th>\n",
              "      <th>loan</th>\n",
              "      <th>campaign</th>\n",
              "      <th>previous</th>\n",
              "      <th>poutcome</th>\n",
              "      <th>Target</th>\n",
              "    </tr>\n",
              "  </thead>\n",
              "  <tbody>\n",
              "    <tr>\n",
              "      <th>0</th>\n",
              "      <td>58</td>\n",
              "      <td>1</td>\n",
              "      <td>0</td>\n",
              "      <td>1362.272058</td>\n",
              "      <td>1</td>\n",
              "      <td>0</td>\n",
              "      <td>1.0</td>\n",
              "      <td>0.0</td>\n",
              "      <td>3</td>\n",
              "      <td>0</td>\n",
              "    </tr>\n",
              "    <tr>\n",
              "      <th>1</th>\n",
              "      <td>44</td>\n",
              "      <td>2</td>\n",
              "      <td>0</td>\n",
              "      <td>29.000000</td>\n",
              "      <td>1</td>\n",
              "      <td>0</td>\n",
              "      <td>1.0</td>\n",
              "      <td>0.0</td>\n",
              "      <td>3</td>\n",
              "      <td>0</td>\n",
              "    </tr>\n",
              "    <tr>\n",
              "      <th>2</th>\n",
              "      <td>33</td>\n",
              "      <td>1</td>\n",
              "      <td>0</td>\n",
              "      <td>2.000000</td>\n",
              "      <td>1</td>\n",
              "      <td>1</td>\n",
              "      <td>1.0</td>\n",
              "      <td>0.0</td>\n",
              "      <td>3</td>\n",
              "      <td>0</td>\n",
              "    </tr>\n",
              "    <tr>\n",
              "      <th>3</th>\n",
              "      <td>47</td>\n",
              "      <td>1</td>\n",
              "      <td>0</td>\n",
              "      <td>1362.272058</td>\n",
              "      <td>1</td>\n",
              "      <td>0</td>\n",
              "      <td>1.0</td>\n",
              "      <td>0.0</td>\n",
              "      <td>3</td>\n",
              "      <td>0</td>\n",
              "    </tr>\n",
              "    <tr>\n",
              "      <th>4</th>\n",
              "      <td>33</td>\n",
              "      <td>2</td>\n",
              "      <td>0</td>\n",
              "      <td>1.000000</td>\n",
              "      <td>0</td>\n",
              "      <td>0</td>\n",
              "      <td>1.0</td>\n",
              "      <td>0.0</td>\n",
              "      <td>3</td>\n",
              "      <td>0</td>\n",
              "    </tr>\n",
              "  </tbody>\n",
              "</table>\n",
              "</div>"
            ],
            "text/plain": [
              "   age marital default      balance  ... campaign previous  poutcome  Target\n",
              "0   58       1       0  1362.272058  ...      1.0      0.0         3       0\n",
              "1   44       2       0    29.000000  ...      1.0      0.0         3       0\n",
              "2   33       1       0     2.000000  ...      1.0      0.0         3       0\n",
              "3   47       1       0  1362.272058  ...      1.0      0.0         3       0\n",
              "4   33       2       0     1.000000  ...      1.0      0.0         3       0\n",
              "\n",
              "[5 rows x 10 columns]"
            ]
          },
          "metadata": {},
          "execution_count": 179
        }
      ]
    },
    {
      "cell_type": "markdown",
      "metadata": {
        "id": "wETjmMkihQ6_"
      },
      "source": [
        "# Pairplot of features"
      ]
    },
    {
      "cell_type": "code",
      "metadata": {
        "colab": {
          "base_uri": "https://localhost:8080/",
          "height": 743
        },
        "id": "HH_GhV5ihQ7A",
        "outputId": "438c66c0-722c-477d-8b40-11c7edacb400"
      },
      "source": [
        "sns.pairplot(df_2) #Pairplot of all features"
      ],
      "execution_count": null,
      "outputs": [
        {
          "output_type": "execute_result",
          "data": {
            "text/plain": [
              "<seaborn.axisgrid.PairGrid at 0x7f06501e7890>"
            ]
          },
          "metadata": {},
          "execution_count": 180
        },
        {
          "output_type": "display_data",
          "data": {
            "image/png": "[encoded data removed]",
            "text/plain": [
              "<Figure size 720x720 with 20 Axes>"
            ]
          },
          "metadata": {
            "needs_background": "light"
          }
        }
      ]
    },
    {
      "cell_type": "markdown",
      "metadata": {
        "id": "rFZYlp6bhQ7B"
      },
      "source": [
        "# Train Test Split (70:30)"
      ]
    },
    {
      "cell_type": "code",
      "metadata": {
        "id": "uonxOq8UhQ7C"
      },
      "source": [
        "X = df_2.drop('Target',axis=1) #independent dimensions  \n",
        "y = df_2['Target'] #selecting target column\n",
        "X_train,X_test,y_train,y_test = train_test_split(X,y,test_size=0.30,random_state=1) #train test split in 70:30 ratio"
      ],
      "execution_count": null,
      "outputs": []
    },
    {
      "cell_type": "markdown",
      "metadata": {
        "id": "ZkcwKdMahQ7C"
      },
      "source": [
        "# Scaling of columns"
      ]
    },
    {
      "cell_type": "code",
      "metadata": {
        "id": "KKy3-md9hQ7D"
      },
      "source": [
        "scaler = StandardScaler() #using standard scaler method\n",
        "X_train_scaled = scaler.fit_transform(X_train) #Scaling of Train dataset\n",
        "X_test_scaled = scaler.fit_transform(X_test) #Scaling of Test dataset"
      ],
      "execution_count": null,
      "outputs": []
    },
    {
      "cell_type": "markdown",
      "metadata": {
        "id": "w1houbkuhQ7E"
      },
      "source": [
        "# Models:\n",
        "## Logistic Regression:"
      ]
    },
    {
      "cell_type": "code",
      "metadata": {
        "id": "EoBrS-w_hQ7F"
      },
      "source": [
        "logic_r = LogisticRegression(solver='liblinear') #Instantiate the LogisticRegression object\n",
        "logic_r.fit(X_train_scaled,y_train) #Call the fit method of logistic regression to train the model or to learn the parameters of model\n",
        "y_pred = logic_r.predict(X_test_scaled) #Predict  "
      ],
      "execution_count": null,
      "outputs": []
    },
    {
      "cell_type": "code",
      "metadata": {
        "colab": {
          "base_uri": "https://localhost:8080/"
        },
        "id": "U2wCIJIzhQ7G",
        "outputId": "1604052f-dcdf-45cf-d727-4089979ebd2d"
      },
      "source": [
        "print('\\033[1m''->'*63)\n",
        "print('\\033[1m''Confusion Matrix\\n',confusion_matrix(y_test,y_pred)) #for confusion matrix\n",
        "print('-'*40)\n",
        "LR_accuracy = accuracy_score(y_test,y_pred)\n",
        "print('Accuracy of Logistic Regression :{:.2f}'.format(LR_accuracy)) #for accuracy score\n",
        "print('-'*40)\n",
        "print('\\n Classification Report\\n',classification_report(y_test,y_pred)) #for classification report\n",
        "print('->'*63)"
      ],
      "execution_count": null,
      "outputs": [
        {
          "output_type": "stream",
          "text": [
            "\u001b[1m->\u001b[1m->\u001b[1m->\u001b[1m->\u001b[1m->\u001b[1m->\u001b[1m->\u001b[1m->\u001b[1m->\u001b[1m->\u001b[1m->\u001b[1m->\u001b[1m->\u001b[1m->\u001b[1m->\u001b[1m->\u001b[1m->\u001b[1m->\u001b[1m->\u001b[1m->\u001b[1m->\u001b[1m->\u001b[1m->\u001b[1m->\u001b[1m->\u001b[1m->\u001b[1m->\u001b[1m->\u001b[1m->\u001b[1m->\u001b[1m->\u001b[1m->\u001b[1m->\u001b[1m->\u001b[1m->\u001b[1m->\u001b[1m->\u001b[1m->\u001b[1m->\u001b[1m->\u001b[1m->\u001b[1m->\u001b[1m->\u001b[1m->\u001b[1m->\u001b[1m->\u001b[1m->\u001b[1m->\u001b[1m->\u001b[1m->\u001b[1m->\u001b[1m->\u001b[1m->\u001b[1m->\u001b[1m->\u001b[1m->\u001b[1m->\u001b[1m->\u001b[1m->\u001b[1m->\u001b[1m->\u001b[1m->\u001b[1m->\n",
            "\u001b[1mConfusion Matrix\n",
            " [[11897   116]\n",
            " [ 1310   241]]\n",
            "----------------------------------------\n",
            "Accuracy of Logistic Regression :0.89\n",
            "----------------------------------------\n",
            "\n",
            " Classification Report\n",
            "               precision    recall  f1-score   support\n",
            "\n",
            "           0       0.90      0.99      0.94     12013\n",
            "           1       0.68      0.16      0.25      1551\n",
            "\n",
            "    accuracy                           0.89     13564\n",
            "   macro avg       0.79      0.57      0.60     13564\n",
            "weighted avg       0.87      0.89      0.86     13564\n",
            "\n",
            "->->->->->->->->->->->->->->->->->->->->->->->->->->->->->->->->->->->->->->->->->->->->->->->->->->->->->->->->->->->->->->->\n"
          ],
          "name": "stdout"
        }
      ]
    },
    {
      "cell_type": "markdown",
      "metadata": {
        "id": "FBLUdcjAhQ7H"
      },
      "source": [
        "## Naive Bayes"
      ]
    },
    {
      "cell_type": "code",
      "metadata": {
        "id": "muupv4AahQ7I"
      },
      "source": [
        "NB = GaussianNB()   #Instantiate the Gaussian Naive bayes \n",
        "NB.fit(X_train_scaled,y_train) #Call the fit method of NB to train the model or to learn the parameters of model\n",
        "y_predi = NB.predict(X_test_scaled) #Predict "
      ],
      "execution_count": null,
      "outputs": []
    },
    {
      "cell_type": "code",
      "metadata": {
        "colab": {
          "base_uri": "https://localhost:8080/"
        },
        "id": "zpI6zZDmhQ7J",
        "outputId": "ab4ccc23-469e-4da4-99d5-e69a477711a9"
      },
      "source": [
        "print('\\033[1m''->'*63)\n",
        "print('\\033[1m''Confusion Matrix\\n',confusion_matrix(y_test,y_predi)) #for confusion matrix\n",
        "print('-'*30)\n",
        "NB_accuracy = accuracy_score(y_test,y_predi)\n",
        "print('Accuracy of Naive Bayes :{:.2f}'.format(NB_accuracy)) #for accuracy score\n",
        "print('-'*30)\n",
        "print('\\n Classification Report\\n',classification_report(y_test,y_predi)) #for classification report\n",
        "print('->'*63)"
      ],
      "execution_count": null,
      "outputs": [
        {
          "output_type": "stream",
          "text": [
            "\u001b[1m->\u001b[1m->\u001b[1m->\u001b[1m->\u001b[1m->\u001b[1m->\u001b[1m->\u001b[1m->\u001b[1m->\u001b[1m->\u001b[1m->\u001b[1m->\u001b[1m->\u001b[1m->\u001b[1m->\u001b[1m->\u001b[1m->\u001b[1m->\u001b[1m->\u001b[1m->\u001b[1m->\u001b[1m->\u001b[1m->\u001b[1m->\u001b[1m->\u001b[1m->\u001b[1m->\u001b[1m->\u001b[1m->\u001b[1m->\u001b[1m->\u001b[1m->\u001b[1m->\u001b[1m->\u001b[1m->\u001b[1m->\u001b[1m->\u001b[1m->\u001b[1m->\u001b[1m->\u001b[1m->\u001b[1m->\u001b[1m->\u001b[1m->\u001b[1m->\u001b[1m->\u001b[1m->\u001b[1m->\u001b[1m->\u001b[1m->\u001b[1m->\u001b[1m->\u001b[1m->\u001b[1m->\u001b[1m->\u001b[1m->\u001b[1m->\u001b[1m->\u001b[1m->\u001b[1m->\u001b[1m->\u001b[1m->\u001b[1m->\n",
            "\u001b[1mConfusion Matrix\n",
            " [[10745  1268]\n",
            " [ 1045   506]]\n",
            "------------------------------\n",
            "Accuracy of Naive Bayes :0.83\n",
            "------------------------------\n",
            "\n",
            " Classification Report\n",
            "               precision    recall  f1-score   support\n",
            "\n",
            "           0       0.91      0.89      0.90     12013\n",
            "           1       0.29      0.33      0.30      1551\n",
            "\n",
            "    accuracy                           0.83     13564\n",
            "   macro avg       0.60      0.61      0.60     13564\n",
            "weighted avg       0.84      0.83      0.83     13564\n",
            "\n",
            "->->->->->->->->->->->->->->->->->->->->->->->->->->->->->->->->->->->->->->->->->->->->->->->->->->->->->->->->->->->->->->->\n"
          ],
          "name": "stdout"
        }
      ]
    },
    {
      "cell_type": "markdown",
      "metadata": {
        "id": "LL-yMZKvhQ7K"
      },
      "source": [
        "## K-Nearest Neighbor"
      ]
    },
    {
      "cell_type": "code",
      "metadata": {
        "colab": {
          "base_uri": "https://localhost:8080/"
        },
        "id": "-pqeNigrhQ7K",
        "outputId": "2ef69201-7472-4378-fa0b-66913a832ce3"
      },
      "source": [
        "# k=3\n",
        "knn = KNeighborsClassifier(n_neighbors = 3)  #Instantiate KNN with k=3\n",
        "knn.fit(X_train_scaled,y_train) #Call the fit method of KNN to train the model or to learn the parameters of model\n",
        "y_predict = knn.predict(X_test_scaled) #Predict \n",
        "\n",
        "print('\\033[1m''->'*63)\n",
        "print('\\033[1m''Confusion Matrix\\n',confusion_matrix(y_test,y_predi)) #for confusion matrix\n",
        "print('-'*30)\n",
        "KNN_accuracy = accuracy_score(y_test,y_predict)\n",
        "print('Accuracy of KNN :{:.2f}'.format(KNN_accuracy)) #for accuracy score\n",
        "print('-'*30)\n",
        "print('\\n Classification Report\\n',classification_report(y_test,y_predi)) #for classification report\n",
        "print('->'*63)"
      ],
      "execution_count": null,
      "outputs": [
        {
          "output_type": "stream",
          "text": [
            "\u001b[1m->\u001b[1m->\u001b[1m->\u001b[1m->\u001b[1m->\u001b[1m->\u001b[1m->\u001b[1m->\u001b[1m->\u001b[1m->\u001b[1m->\u001b[1m->\u001b[1m->\u001b[1m->\u001b[1m->\u001b[1m->\u001b[1m->\u001b[1m->\u001b[1m->\u001b[1m->\u001b[1m->\u001b[1m->\u001b[1m->\u001b[1m->\u001b[1m->\u001b[1m->\u001b[1m->\u001b[1m->\u001b[1m->\u001b[1m->\u001b[1m->\u001b[1m->\u001b[1m->\u001b[1m->\u001b[1m->\u001b[1m->\u001b[1m->\u001b[1m->\u001b[1m->\u001b[1m->\u001b[1m->\u001b[1m->\u001b[1m->\u001b[1m->\u001b[1m->\u001b[1m->\u001b[1m->\u001b[1m->\u001b[1m->\u001b[1m->\u001b[1m->\u001b[1m->\u001b[1m->\u001b[1m->\u001b[1m->\u001b[1m->\u001b[1m->\u001b[1m->\u001b[1m->\u001b[1m->\u001b[1m->\u001b[1m->\u001b[1m->\n",
            "\u001b[1mConfusion Matrix\n",
            " [[10745  1268]\n",
            " [ 1045   506]]\n",
            "------------------------------\n",
            "Accuracy of KNN :0.87\n",
            "------------------------------\n",
            "\n",
            " Classification Report\n",
            "               precision    recall  f1-score   support\n",
            "\n",
            "           0       0.91      0.89      0.90     12013\n",
            "           1       0.29      0.33      0.30      1551\n",
            "\n",
            "    accuracy                           0.83     13564\n",
            "   macro avg       0.60      0.61      0.60     13564\n",
            "weighted avg       0.84      0.83      0.83     13564\n",
            "\n",
            "->->->->->->->->->->->->->->->->->->->->->->->->->->->->->->->->->->->->->->->->->->->->->->->->->->->->->->->->->->->->->->->\n"
          ],
          "name": "stdout"
        }
      ]
    },
    {
      "cell_type": "code",
      "metadata": {
        "colab": {
          "base_uri": "https://localhost:8080/"
        },
        "id": "_8LsFPYWhQ7M",
        "outputId": "4c26da1d-a82e-46cb-d7a8-275da005f48e"
      },
      "source": [
        "oddList = list(np.arange(1,15)) #Range from 1 to 15\n",
        "neighbors = list(filter(lambda x: x % 2 != 0, oddList)) #Selecting only odd numbers from Range 1 to 24\n",
        "\n",
        "accuracy_list = [] #Empty list to store accuracy scores of KNN models based on various K values\n",
        "\n",
        "for i in neighbors:\n",
        "    knn = KNeighborsClassifier(n_neighbors = i) #Instantiate KNN with k=i\n",
        "    knn.fit(X_train_scaled,y_train)  #Call the fit method of KNN to train the model or to learn the parameters of model\n",
        "    y_pred = knn.predict(X_test_scaled) #Predict \n",
        "    accuracy_s = accuracy_score(y_test,y_pred) #for accuracy score\n",
        "    accuracy_list.append(accuracy_s)  #for appedning accuracy score to accuracy score list\n",
        "    \n",
        "MSE=[1 - j for j in accuracy_list] #calculation of Mean Squared Error\n",
        "\n",
        "optimal = neighbors[MSE.index(min(MSE))] #Optimal K value selected by minimum MSE\n",
        "print('optimal k is',optimal) #Print optimal K value selected by minimum MSE\n",
        "\n",
        "plt.plot(neighbors,MSE) #MSE plot \n",
        "plt.xlabel('Number of Neighbors K') #XLabel\n",
        "plt.ylabel('Misclassification Error') #YLabel\n",
        "plt.show() #display plot"
      ],
      "execution_count": null,
      "outputs": [
        {
          "output_type": "stream",
          "text": [
            "optimal k is 13\n"
          ],
          "name": "stdout"
        },
        {
          "output_type": "display_data",
          "data": {
            "image/png": "[encoded data removed]",
            "text/plain": [
              "<Figure size 432x288 with 1 Axes>"
            ]
          },
          "metadata": {
            "needs_background": "light"
          }
        }
      ]
    },
    {
      "cell_type": "markdown",
      "metadata": {
        "id": "ZDS6YqCchQ7O"
      },
      "source": [
        "## SVC"
      ]
    },
    {
      "cell_type": "code",
      "metadata": {
        "colab": {
          "base_uri": "https://localhost:8080/"
        },
        "id": "akRzXNzbhQ7P",
        "outputId": "f2c6a235-0080-4682-e918-adb188a151a5"
      },
      "source": [
        "svc = SVC()  #Instantiate SVC\n",
        "svc.fit(X_train_scaled,y_train) #Call the fit method of SVC to train the model or to learn the parameters of model\n",
        "predicted_svc = svc.predict(X_test_scaled) #Predict \n",
        "\n",
        "print('\\033[1m''->'*63)\n",
        "print('\\033[1m''Confusion Matrix\\n',confusion_matrix(y_test,predicted_svc)) #for confusion matrix\n",
        "print('-'*30)\n",
        "SVC_accuracy = accuracy_score(y_test,predicted_svc) #for accuracy score\n",
        "print('Accuracy of SVC :',SVC_accuracy)\n",
        "print('-'*30)\n",
        "print('\\n Classification Report\\n',classification_report(y_test,predicted_svc)) #for classification report\n",
        "print('->'*63)"
      ],
      "execution_count": null,
      "outputs": [
        {
          "output_type": "stream",
          "text": [
            "\u001b[1m->\u001b[1m->\u001b[1m->\u001b[1m->\u001b[1m->\u001b[1m->\u001b[1m->\u001b[1m->\u001b[1m->\u001b[1m->\u001b[1m->\u001b[1m->\u001b[1m->\u001b[1m->\u001b[1m->\u001b[1m->\u001b[1m->\u001b[1m->\u001b[1m->\u001b[1m->\u001b[1m->\u001b[1m->\u001b[1m->\u001b[1m->\u001b[1m->\u001b[1m->\u001b[1m->\u001b[1m->\u001b[1m->\u001b[1m->\u001b[1m->\u001b[1m->\u001b[1m->\u001b[1m->\u001b[1m->\u001b[1m->\u001b[1m->\u001b[1m->\u001b[1m->\u001b[1m->\u001b[1m->\u001b[1m->\u001b[1m->\u001b[1m->\u001b[1m->\u001b[1m->\u001b[1m->\u001b[1m->\u001b[1m->\u001b[1m->\u001b[1m->\u001b[1m->\u001b[1m->\u001b[1m->\u001b[1m->\u001b[1m->\u001b[1m->\u001b[1m->\u001b[1m->\u001b[1m->\u001b[1m->\u001b[1m->\u001b[1m->\n",
            "\u001b[1mConfusion Matrix\n",
            " [[11867   146]\n",
            " [ 1273   278]]\n",
            "------------------------------\n",
            "Accuracy of SVC : 0.8953848422294308\n",
            "------------------------------\n",
            "\n",
            " Classification Report\n",
            "               precision    recall  f1-score   support\n",
            "\n",
            "           0       0.90      0.99      0.94     12013\n",
            "           1       0.66      0.18      0.28      1551\n",
            "\n",
            "    accuracy                           0.90     13564\n",
            "   macro avg       0.78      0.58      0.61     13564\n",
            "weighted avg       0.87      0.90      0.87     13564\n",
            "\n",
            "->->->->->->->->->->->->->->->->->->->->->->->->->->->->->->->->->->->->->->->->->->->->->->->->->->->->->->->->->->->->->->->\n"
          ],
          "name": "stdout"
        }
      ]
    },
    {
      "cell_type": "markdown",
      "metadata": {
        "id": "wtEpgAnNhQ7Q"
      },
      "source": [
        "# Ensemble Models"
      ]
    },
    {
      "cell_type": "markdown",
      "metadata": {
        "id": "KN4T8c5DhQ7R"
      },
      "source": [
        "## Decision Tree"
      ]
    },
    {
      "cell_type": "code",
      "metadata": {
        "colab": {
          "base_uri": "https://localhost:8080/"
        },
        "id": "jj7xTjcahQ7T",
        "outputId": "fc25df71-a37b-486d-a2e5-c2eeb1044800"
      },
      "source": [
        "dTree = DecisionTreeClassifier(criterion = 'gini', random_state=1) #Instantiate Decision Tree\n",
        "dTree.fit(X_train, y_train) #Call the fit method of DT to train the model or to learn the parameters of model\n",
        "predicted_DT = dTree.predict(X_test) #Predict \n",
        "\n",
        "print('\\033[1m''->'*63)\n",
        "print('\\033[1m''Confusion Matrix\\n',confusion_matrix(y_test,predicted_DT)) #for confusion matrix\n",
        "print('-'*30)\n",
        "DT_accuracy = accuracy_score(y_test,predicted_DT)\n",
        "print('Accuracy of Decision Tree :{:.2f}'.format(DT_accuracy)) #for accuracy score\n",
        "print('-'*30)\n",
        "print('\\n Classification Report\\n',classification_report(y_test,predicted_DT)) #for classification report\n",
        "print('->'*63)"
      ],
      "execution_count": null,
      "outputs": [
        {
          "output_type": "stream",
          "text": [
            "\u001b[1m->\u001b[1m->\u001b[1m->\u001b[1m->\u001b[1m->\u001b[1m->\u001b[1m->\u001b[1m->\u001b[1m->\u001b[1m->\u001b[1m->\u001b[1m->\u001b[1m->\u001b[1m->\u001b[1m->\u001b[1m->\u001b[1m->\u001b[1m->\u001b[1m->\u001b[1m->\u001b[1m->\u001b[1m->\u001b[1m->\u001b[1m->\u001b[1m->\u001b[1m->\u001b[1m->\u001b[1m->\u001b[1m->\u001b[1m->\u001b[1m->\u001b[1m->\u001b[1m->\u001b[1m->\u001b[1m->\u001b[1m->\u001b[1m->\u001b[1m->\u001b[1m->\u001b[1m->\u001b[1m->\u001b[1m->\u001b[1m->\u001b[1m->\u001b[1m->\u001b[1m->\u001b[1m->\u001b[1m->\u001b[1m->\u001b[1m->\u001b[1m->\u001b[1m->\u001b[1m->\u001b[1m->\u001b[1m->\u001b[1m->\u001b[1m->\u001b[1m->\u001b[1m->\u001b[1m->\u001b[1m->\u001b[1m->\u001b[1m->\n",
            "\u001b[1mConfusion Matrix\n",
            " [[11020   993]\n",
            " [ 1190   361]]\n",
            "------------------------------\n",
            "Accuracy of Decision Tree :0.84\n",
            "------------------------------\n",
            "\n",
            " Classification Report\n",
            "               precision    recall  f1-score   support\n",
            "\n",
            "           0       0.90      0.92      0.91     12013\n",
            "           1       0.27      0.23      0.25      1551\n",
            "\n",
            "    accuracy                           0.84     13564\n",
            "   macro avg       0.58      0.58      0.58     13564\n",
            "weighted avg       0.83      0.84      0.83     13564\n",
            "\n",
            "->->->->->->->->->->->->->->->->->->->->->->->->->->->->->->->->->->->->->->->->->->->->->->->->->->->->->->->->->->->->->->->\n"
          ],
          "name": "stdout"
        }
      ]
    },
    {
      "cell_type": "markdown",
      "metadata": {
        "id": "nhKQWDVBhQ7U"
      },
      "source": [
        "## Feature importance test for decision tree"
      ]
    },
    {
      "cell_type": "code",
      "metadata": {
        "colab": {
          "base_uri": "https://localhost:8080/"
        },
        "id": "smWf6yD5hQ7V",
        "outputId": "ba007a67-b1a7-4608-ee7c-cd1f56c46e1d"
      },
      "source": [
        "xvar = df_2.drop('Target', axis=1) #variables in x\n",
        "feature_cols = xvar.columns # columns in x\n",
        "feat_importance = dTree.tree_.compute_feature_importances(normalize=False) #compute feature importance\n",
        "\n",
        "\n",
        "feat_imp_dict = dict(zip(feature_cols, dTree.feature_importances_)) #dictionary of columns and importance\n",
        "feat_imp = pd.DataFrame.from_dict(feat_imp_dict, orient='index') #conversion of dictionary to dataframe\n",
        "feat_imp.sort_values(by=0, ascending=False) #sort in descending order"
      ],
      "execution_count": null,
      "outputs": [
        {
          "output_type": "execute_result",
          "data": {
            "text/html": [
              "<div>\n",
              "<style scoped>\n",
              "    .dataframe tbody tr th:only-of-type {\n",
              "        vertical-align: middle;\n",
              "    }\n",
              "\n",
              "    .dataframe tbody tr th {\n",
              "        vertical-align: top;\n",
              "    }\n",
              "\n",
              "    .dataframe thead th {\n",
              "        text-align: right;\n",
              "    }\n",
              "</style>\n",
              "<table border=\"1\" class=\"dataframe\">\n",
              "  <thead>\n",
              "    <tr style=\"text-align: right;\">\n",
              "      <th></th>\n",
              "      <th>0</th>\n",
              "    </tr>\n",
              "  </thead>\n",
              "  <tbody>\n",
              "    <tr>\n",
              "      <th>balance</th>\n",
              "      <td>0.442826</td>\n",
              "    </tr>\n",
              "    <tr>\n",
              "      <th>age</th>\n",
              "      <td>0.248702</td>\n",
              "    </tr>\n",
              "    <tr>\n",
              "      <th>poutcome</th>\n",
              "      <td>0.095115</td>\n",
              "    </tr>\n",
              "    <tr>\n",
              "      <th>campaign</th>\n",
              "      <td>0.086817</td>\n",
              "    </tr>\n",
              "    <tr>\n",
              "      <th>marital</th>\n",
              "      <td>0.040698</td>\n",
              "    </tr>\n",
              "    <tr>\n",
              "      <th>previous</th>\n",
              "      <td>0.034347</td>\n",
              "    </tr>\n",
              "    <tr>\n",
              "      <th>loan</th>\n",
              "      <td>0.025493</td>\n",
              "    </tr>\n",
              "    <tr>\n",
              "      <th>housing</th>\n",
              "      <td>0.022714</td>\n",
              "    </tr>\n",
              "    <tr>\n",
              "      <th>default</th>\n",
              "      <td>0.003286</td>\n",
              "    </tr>\n",
              "  </tbody>\n",
              "</table>\n",
              "</div>"
            ],
            "text/plain": [
              "                 0\n",
              "balance   0.442826\n",
              "age       0.248702\n",
              "poutcome  0.095115\n",
              "campaign  0.086817\n",
              "marital   0.040698\n",
              "previous  0.034347\n",
              "loan      0.025493\n",
              "housing   0.022714\n",
              "default   0.003286"
            ]
          },
          "metadata": {},
          "execution_count": 191
        }
      ]
    },
    {
      "cell_type": "markdown",
      "metadata": {
        "id": "FD0B8tKYhQ7W"
      },
      "source": [
        "## Pruning of Decision Tree"
      ]
    },
    {
      "cell_type": "code",
      "metadata": {
        "colab": {
          "base_uri": "https://localhost:8080/"
        },
        "id": "-6hAYa7rhQ7X",
        "outputId": "ee7e64e3-505c-4db6-8154-6a4df72354c9"
      },
      "source": [
        "dTreeR = DecisionTreeClassifier(criterion = 'gini', max_depth = 3, random_state=1) #Instantiate Decision Tree with max_depth\n",
        "dTreeR.fit(X_train, y_train) #Call the fit method of DT to train the model or to learn the parameters of model\n",
        "predicted_DTR = dTreeR.predict(X_test) #Predict\n",
        "\n",
        "print('\\033[1m''->'*63)\n",
        "print('\\033[1m''Confusion Matrix\\n',confusion_matrix(y_test,predicted_DTR)) #for confusion matrix\n",
        "print('-'*30)\n",
        "DTR_accuracy = accuracy_score(y_test,predicted_DTR)\n",
        "print('Accuracy of Decision Tree with Regularization:{:.2f}'.format(DTR_accuracy)) #for accuracy score\n",
        "print('-'*30)\n",
        "print('\\n Classification Report\\n',classification_report(y_test,predicted_DTR)) #for classification report\n",
        "print('->'*63)"
      ],
      "execution_count": null,
      "outputs": [
        {
          "output_type": "stream",
          "text": [
            "\u001b[1m->\u001b[1m->\u001b[1m->\u001b[1m->\u001b[1m->\u001b[1m->\u001b[1m->\u001b[1m->\u001b[1m->\u001b[1m->\u001b[1m->\u001b[1m->\u001b[1m->\u001b[1m->\u001b[1m->\u001b[1m->\u001b[1m->\u001b[1m->\u001b[1m->\u001b[1m->\u001b[1m->\u001b[1m->\u001b[1m->\u001b[1m->\u001b[1m->\u001b[1m->\u001b[1m->\u001b[1m->\u001b[1m->\u001b[1m->\u001b[1m->\u001b[1m->\u001b[1m->\u001b[1m->\u001b[1m->\u001b[1m->\u001b[1m->\u001b[1m->\u001b[1m->\u001b[1m->\u001b[1m->\u001b[1m->\u001b[1m->\u001b[1m->\u001b[1m->\u001b[1m->\u001b[1m->\u001b[1m->\u001b[1m->\u001b[1m->\u001b[1m->\u001b[1m->\u001b[1m->\u001b[1m->\u001b[1m->\u001b[1m->\u001b[1m->\u001b[1m->\u001b[1m->\u001b[1m->\u001b[1m->\u001b[1m->\u001b[1m->\n",
            "\u001b[1mConfusion Matrix\n",
            " [[11826   187]\n",
            " [ 1237   314]]\n",
            "------------------------------\n",
            "Accuracy of Decision Tree with Regularization:0.90\n",
            "------------------------------\n",
            "\n",
            " Classification Report\n",
            "               precision    recall  f1-score   support\n",
            "\n",
            "           0       0.91      0.98      0.94     12013\n",
            "           1       0.63      0.20      0.31      1551\n",
            "\n",
            "    accuracy                           0.90     13564\n",
            "   macro avg       0.77      0.59      0.62     13564\n",
            "weighted avg       0.87      0.90      0.87     13564\n",
            "\n",
            "->->->->->->->->->->->->->->->->->->->->->->->->->->->->->->->->->->->->->->->->->->->->->->->->->->->->->->->->->->->->->->->\n"
          ],
          "name": "stdout"
        }
      ]
    },
    {
      "cell_type": "code",
      "metadata": {
        "colab": {
          "base_uri": "https://localhost:8080/"
        },
        "id": "hL-0ELgTle98",
        "outputId": "ceb36852-e90a-4392-afcc-68a69a6c21db"
      },
      "source": [
        "!pip install plot_metric"
      ],
      "execution_count": null,
      "outputs": [
        {
          "output_type": "stream",
          "text": [
            "Requirement already satisfied: plot_metric in /usr/local/lib/python3.7/dist-packages (0.0.6)\n",
            "Requirement already satisfied: numpy>=1.15.4 in /usr/local/lib/python3.7/dist-packages (from plot_metric) (1.19.5)\n",
            "Requirement already satisfied: scikit-learn>=0.21.2 in /usr/local/lib/python3.7/dist-packages (from plot_metric) (0.22.2.post1)\n",
            "Requirement already satisfied: scipy>=1.1.0 in /usr/local/lib/python3.7/dist-packages (from plot_metric) (1.4.1)\n",
            "Requirement already satisfied: colorlover>=0.3.0 in /usr/local/lib/python3.7/dist-packages (from plot_metric) (0.3.0)\n",
            "Requirement already satisfied: matplotlib>=3.0.2 in /usr/local/lib/python3.7/dist-packages (from plot_metric) (3.2.2)\n",
            "Requirement already satisfied: seaborn>=0.9.0 in /usr/local/lib/python3.7/dist-packages (from plot_metric) (0.11.1)\n",
            "Requirement already satisfied: pandas>=0.23.4 in /usr/local/lib/python3.7/dist-packages (from plot_metric) (1.1.5)\n",
            "Requirement already satisfied: cycler>=0.10 in /usr/local/lib/python3.7/dist-packages (from matplotlib>=3.0.2->plot_metric) (0.10.0)\n",
            "Requirement already satisfied: pyparsing!=2.0.4,!=2.1.2,!=2.1.6,>=2.0.1 in /usr/local/lib/python3.7/dist-packages (from matplotlib>=3.0.2->plot_metric) (2.4.7)\n",
            "Requirement already satisfied: python-dateutil>=2.1 in /usr/local/lib/python3.7/dist-packages (from matplotlib>=3.0.2->plot_metric) (2.8.2)\n",
            "Requirement already satisfied: kiwisolver>=1.0.1 in /usr/local/lib/python3.7/dist-packages (from matplotlib>=3.0.2->plot_metric) (1.3.1)\n",
            "Requirement already satisfied: six in /usr/local/lib/python3.7/dist-packages (from cycler>=0.10->matplotlib>=3.0.2->plot_metric) (1.15.0)\n",
            "Requirement already satisfied: pytz>=2017.2 in /usr/local/lib/python3.7/dist-packages (from pandas>=0.23.4->plot_metric) (2018.9)\n",
            "Requirement already satisfied: joblib>=0.11 in /usr/local/lib/python3.7/dist-packages (from scikit-learn>=0.21.2->plot_metric) (1.0.1)\n"
          ],
          "name": "stdout"
        }
      ]
    },
    {
      "cell_type": "code",
      "metadata": {
        "colab": {
          "base_uri": "https://localhost:8080/"
        },
        "id": "EuAVj40PhQ7Z",
        "outputId": "d30fc99d-88af-4041-f6cd-8ebf116be084"
      },
      "source": [
        "feat_importance = dTreeR.tree_.compute_feature_importances(normalize=False) #compute feature importance\n",
        "\n",
        "\n",
        "feat_imp_dict = dict(zip(feature_cols, dTreeR.feature_importances_)) #dictionary of columns and importance\n",
        "feat_imp = pd.DataFrame.from_dict(feat_imp_dict, orient='index') #conversion of dictionary to dataframe\n",
        "feat_imp.sort_values(by=0, ascending=False) #sort in descending order"
      ],
      "execution_count": null,
      "outputs": [
        {
          "output_type": "execute_result",
          "data": {
            "text/html": [
              "<div>\n",
              "<style scoped>\n",
              "    .dataframe tbody tr th:only-of-type {\n",
              "        vertical-align: middle;\n",
              "    }\n",
              "\n",
              "    .dataframe tbody tr th {\n",
              "        vertical-align: top;\n",
              "    }\n",
              "\n",
              "    .dataframe thead th {\n",
              "        text-align: right;\n",
              "    }\n",
              "</style>\n",
              "<table border=\"1\" class=\"dataframe\">\n",
              "  <thead>\n",
              "    <tr style=\"text-align: right;\">\n",
              "      <th></th>\n",
              "      <th>0</th>\n",
              "    </tr>\n",
              "  </thead>\n",
              "  <tbody>\n",
              "    <tr>\n",
              "      <th>poutcome</th>\n",
              "      <td>0.547320</td>\n",
              "    </tr>\n",
              "    <tr>\n",
              "      <th>previous</th>\n",
              "      <td>0.215141</td>\n",
              "    </tr>\n",
              "    <tr>\n",
              "      <th>age</th>\n",
              "      <td>0.142976</td>\n",
              "    </tr>\n",
              "    <tr>\n",
              "      <th>housing</th>\n",
              "      <td>0.087515</td>\n",
              "    </tr>\n",
              "    <tr>\n",
              "      <th>marital</th>\n",
              "      <td>0.007048</td>\n",
              "    </tr>\n",
              "    <tr>\n",
              "      <th>default</th>\n",
              "      <td>0.000000</td>\n",
              "    </tr>\n",
              "    <tr>\n",
              "      <th>balance</th>\n",
              "      <td>0.000000</td>\n",
              "    </tr>\n",
              "    <tr>\n",
              "      <th>loan</th>\n",
              "      <td>0.000000</td>\n",
              "    </tr>\n",
              "    <tr>\n",
              "      <th>campaign</th>\n",
              "      <td>0.000000</td>\n",
              "    </tr>\n",
              "  </tbody>\n",
              "</table>\n",
              "</div>"
            ],
            "text/plain": [
              "                 0\n",
              "poutcome  0.547320\n",
              "previous  0.215141\n",
              "age       0.142976\n",
              "housing   0.087515\n",
              "marital   0.007048\n",
              "default   0.000000\n",
              "balance   0.000000\n",
              "loan      0.000000\n",
              "campaign  0.000000"
            ]
          },
          "metadata": {},
          "execution_count": 194
        }
      ]
    },
    {
      "cell_type": "markdown",
      "metadata": {
        "id": "kIDsZpZUhQ7a"
      },
      "source": [
        "## Bagging"
      ]
    },
    {
      "cell_type": "code",
      "metadata": {
        "colab": {
          "base_uri": "https://localhost:8080/"
        },
        "id": "-vRfQCedhQ7a",
        "outputId": "6ffb278c-bb09-482b-d409-640ad120d511"
      },
      "source": [
        "bagc = BaggingClassifier(base_estimator=dTree, n_estimators=500,random_state=1) #Instantiate Bagging Classifier\n",
        "bagc = bagc.fit(X_train, y_train) #Call the fit method of Bagging classifier to train the model or to learn the parameters of model\n",
        "predicted_BAG = bagc.predict(X_test) #Predict\n",
        "\n",
        "\n",
        "print('\\033[1m''->'*63)\n",
        "print('\\033[1m''Confusion Matrix\\n',confusion_matrix(y_test,predicted_BAG)) #for confusion matrix\n",
        "print('-'*30)\n",
        "BAG_accuracy = accuracy_score(y_test,predicted_BAG)\n",
        "print('Accuracy of Decision Tree :{:.2f}'.format(BAG_accuracy)) #for accuracy score\n",
        "print('-'*30)\n",
        "print('\\n Classification Report\\n',classification_report(y_test,predicted_BAG)) #for classification report\n",
        "print('->'*63)"
      ],
      "execution_count": null,
      "outputs": [
        {
          "output_type": "stream",
          "text": [
            "\u001b[1m->\u001b[1m->\u001b[1m->\u001b[1m->\u001b[1m->\u001b[1m->\u001b[1m->\u001b[1m->\u001b[1m->\u001b[1m->\u001b[1m->\u001b[1m->\u001b[1m->\u001b[1m->\u001b[1m->\u001b[1m->\u001b[1m->\u001b[1m->\u001b[1m->\u001b[1m->\u001b[1m->\u001b[1m->\u001b[1m->\u001b[1m->\u001b[1m->\u001b[1m->\u001b[1m->\u001b[1m->\u001b[1m->\u001b[1m->\u001b[1m->\u001b[1m->\u001b[1m->\u001b[1m->\u001b[1m->\u001b[1m->\u001b[1m->\u001b[1m->\u001b[1m->\u001b[1m->\u001b[1m->\u001b[1m->\u001b[1m->\u001b[1m->\u001b[1m->\u001b[1m->\u001b[1m->\u001b[1m->\u001b[1m->\u001b[1m->\u001b[1m->\u001b[1m->\u001b[1m->\u001b[1m->\u001b[1m->\u001b[1m->\u001b[1m->\u001b[1m->\u001b[1m->\u001b[1m->\u001b[1m->\u001b[1m->\u001b[1m->\n",
            "\u001b[1mConfusion Matrix\n",
            " [[11617   396]\n",
            " [ 1220   331]]\n",
            "------------------------------\n",
            "Accuracy of Decision Tree :0.88\n",
            "------------------------------\n",
            "\n",
            " Classification Report\n",
            "               precision    recall  f1-score   support\n",
            "\n",
            "           0       0.90      0.97      0.93     12013\n",
            "           1       0.46      0.21      0.29      1551\n",
            "\n",
            "    accuracy                           0.88     13564\n",
            "   macro avg       0.68      0.59      0.61     13564\n",
            "weighted avg       0.85      0.88      0.86     13564\n",
            "\n",
            "->->->->->->->->->->->->->->->->->->->->->->->->->->->->->->->->->->->->->->->->->->->->->->->->->->->->->->->->->->->->->->->\n"
          ],
          "name": "stdout"
        }
      ]
    },
    {
      "cell_type": "markdown",
      "metadata": {
        "id": "noJzU9_5hQ7b"
      },
      "source": [
        "## Adaptive Boosting"
      ]
    },
    {
      "cell_type": "code",
      "metadata": {
        "colab": {
          "base_uri": "https://localhost:8080/"
        },
        "id": "hh_m57lehQ7c",
        "outputId": "57e628eb-aec7-43be-c854-4a6a211987b2"
      },
      "source": [
        "adab = AdaBoostClassifier(n_estimators=50, random_state=1) #Instantiate Adaptive boosting Classifier\n",
        "adab = adab.fit(X_train, y_train) #Call the fit method of Adaptive boosting Classifier to train the model or to learn the parameters of model\n",
        "predicted_ADA = adab.predict(X_test) #Predict\n",
        "\n",
        "\n",
        "\n",
        "print('\\033[1m''->'*63)\n",
        "print('\\033[1m''Confusion Matrix\\n',confusion_matrix(y_test,predicted_ADA)) #for confusion matrix\n",
        "print('-'*30)\n",
        "ADA_accuracy = accuracy_score(y_test,predicted_ADA)\n",
        "print('Accuracy of KNN :{:.2f}'.format(ADA_accuracy)) #for accuracy score\n",
        "print('-'*30)\n",
        "print('\\n Classification Report\\n',classification_report(y_test,predicted_ADA)) #for classification report\n",
        "print('->'*63)"
      ],
      "execution_count": null,
      "outputs": [
        {
          "output_type": "stream",
          "text": [
            "\u001b[1m->\u001b[1m->\u001b[1m->\u001b[1m->\u001b[1m->\u001b[1m->\u001b[1m->\u001b[1m->\u001b[1m->\u001b[1m->\u001b[1m->\u001b[1m->\u001b[1m->\u001b[1m->\u001b[1m->\u001b[1m->\u001b[1m->\u001b[1m->\u001b[1m->\u001b[1m->\u001b[1m->\u001b[1m->\u001b[1m->\u001b[1m->\u001b[1m->\u001b[1m->\u001b[1m->\u001b[1m->\u001b[1m->\u001b[1m->\u001b[1m->\u001b[1m->\u001b[1m->\u001b[1m->\u001b[1m->\u001b[1m->\u001b[1m->\u001b[1m->\u001b[1m->\u001b[1m->\u001b[1m->\u001b[1m->\u001b[1m->\u001b[1m->\u001b[1m->\u001b[1m->\u001b[1m->\u001b[1m->\u001b[1m->\u001b[1m->\u001b[1m->\u001b[1m->\u001b[1m->\u001b[1m->\u001b[1m->\u001b[1m->\u001b[1m->\u001b[1m->\u001b[1m->\u001b[1m->\u001b[1m->\u001b[1m->\u001b[1m->\n",
            "\u001b[1mConfusion Matrix\n",
            " [[11884   129]\n",
            " [ 1309   242]]\n",
            "------------------------------\n",
            "Accuracy of KNN :0.89\n",
            "------------------------------\n",
            "\n",
            " Classification Report\n",
            "               precision    recall  f1-score   support\n",
            "\n",
            "           0       0.90      0.99      0.94     12013\n",
            "           1       0.65      0.16      0.25      1551\n",
            "\n",
            "    accuracy                           0.89     13564\n",
            "   macro avg       0.78      0.57      0.60     13564\n",
            "weighted avg       0.87      0.89      0.86     13564\n",
            "\n",
            "->->->->->->->->->->->->->->->->->->->->->->->->->->->->->->->->->->->->->->->->->->->->->->->->->->->->->->->->->->->->->->->\n"
          ],
          "name": "stdout"
        }
      ]
    },
    {
      "cell_type": "markdown",
      "metadata": {
        "id": "3zj6VNlrhQ7e"
      },
      "source": [
        "## Gradient boosting"
      ]
    },
    {
      "cell_type": "code",
      "metadata": {
        "colab": {
          "base_uri": "https://localhost:8080/"
        },
        "id": "DLTwrcq-hQ7e",
        "outputId": "8699f20e-f7b5-4fd0-f688-e60977635a26"
      },
      "source": [
        "gradb = GradientBoostingClassifier(n_estimators = 100,random_state=1) #Instantiate Gradient boosting Classifier\n",
        "gradb = gradb.fit(X_train, y_train)#Call the fit method of Gradient boosting Classifier to train the model or to learn the parameters of model\n",
        "predicted_GRAD = gradb.predict(X_test) #Predict\n",
        "\n",
        "\n",
        "print('\\033[1m''->'*63)\n",
        "print('\\033[1m''Confusion Matrix\\n',confusion_matrix(y_test,predicted_GRAD)) #for confusion matrix\n",
        "print('-'*30)\n",
        "GRAD_accuracy = accuracy_score(y_test,predicted_GRAD)\n",
        "print('Accuracy of KNN :{:.2f}'.format(GRAD_accuracy)) #for accuracy score\n",
        "print('-'*30)\n",
        "print('\\n Classification Report\\n',classification_report(y_test,predicted_GRAD)) #for classification report\n",
        "print('->'*63)"
      ],
      "execution_count": null,
      "outputs": [
        {
          "output_type": "stream",
          "text": [
            "\u001b[1m->\u001b[1m->\u001b[1m->\u001b[1m->\u001b[1m->\u001b[1m->\u001b[1m->\u001b[1m->\u001b[1m->\u001b[1m->\u001b[1m->\u001b[1m->\u001b[1m->\u001b[1m->\u001b[1m->\u001b[1m->\u001b[1m->\u001b[1m->\u001b[1m->\u001b[1m->\u001b[1m->\u001b[1m->\u001b[1m->\u001b[1m->\u001b[1m->\u001b[1m->\u001b[1m->\u001b[1m->\u001b[1m->\u001b[1m->\u001b[1m->\u001b[1m->\u001b[1m->\u001b[1m->\u001b[1m->\u001b[1m->\u001b[1m->\u001b[1m->\u001b[1m->\u001b[1m->\u001b[1m->\u001b[1m->\u001b[1m->\u001b[1m->\u001b[1m->\u001b[1m->\u001b[1m->\u001b[1m->\u001b[1m->\u001b[1m->\u001b[1m->\u001b[1m->\u001b[1m->\u001b[1m->\u001b[1m->\u001b[1m->\u001b[1m->\u001b[1m->\u001b[1m->\u001b[1m->\u001b[1m->\u001b[1m->\u001b[1m->\n",
            "\u001b[1mConfusion Matrix\n",
            " [[11889   124]\n",
            " [ 1305   246]]\n",
            "------------------------------\n",
            "Accuracy of KNN :0.89\n",
            "------------------------------\n",
            "\n",
            " Classification Report\n",
            "               precision    recall  f1-score   support\n",
            "\n",
            "           0       0.90      0.99      0.94     12013\n",
            "           1       0.66      0.16      0.26      1551\n",
            "\n",
            "    accuracy                           0.89     13564\n",
            "   macro avg       0.78      0.57      0.60     13564\n",
            "weighted avg       0.87      0.89      0.86     13564\n",
            "\n",
            "->->->->->->->->->->->->->->->->->->->->->->->->->->->->->->->->->->->->->->->->->->->->->->->->->->->->->->->->->->->->->->->\n"
          ],
          "name": "stdout"
        }
      ]
    },
    {
      "cell_type": "markdown",
      "metadata": {
        "id": "TvnCpg-4hQ7f"
      },
      "source": [
        "## Random Forest"
      ]
    },
    {
      "cell_type": "code",
      "metadata": {
        "colab": {
          "base_uri": "https://localhost:8080/"
        },
        "id": "z1_CBHfihQ7g",
        "outputId": "993f8f35-55c3-4d9b-c594-5b76e7bbbf1f"
      },
      "source": [
        "#n=100\n",
        "randf = RandomForestClassifier(n_estimators = 100, random_state=1, max_features=3)#Instantiate Random Forest Classifier\n",
        "randf = randf.fit(X_train, y_train) #Call the fit method of Random Forest Classifier to train the model or to learn the parameters of model\n",
        "predicted_RAN = randf.predict(X_test) #Predict\n",
        "\n",
        "print('\\033[1m''->'*63)\n",
        "print('\\033[1m''Confusion Matrix\\n',confusion_matrix(y_test,predicted_RAN )) #for confusion matrix\n",
        "print('-'*30)\n",
        "RAN_accuracy = accuracy_score(y_test,predicted_RAN )\n",
        "print('Accuracy of KNN :{:.2f}'.format(RAN_accuracy)) #for accuracy score\n",
        "print('-'*30)\n",
        "print('\\n Classification Report\\n',classification_report(y_test,predicted_RAN )) #for classification report\n",
        "print('->'*63)"
      ],
      "execution_count": null,
      "outputs": [
        {
          "output_type": "stream",
          "text": [
            "\u001b[1m->\u001b[1m->\u001b[1m->\u001b[1m->\u001b[1m->\u001b[1m->\u001b[1m->\u001b[1m->\u001b[1m->\u001b[1m->\u001b[1m->\u001b[1m->\u001b[1m->\u001b[1m->\u001b[1m->\u001b[1m->\u001b[1m->\u001b[1m->\u001b[1m->\u001b[1m->\u001b[1m->\u001b[1m->\u001b[1m->\u001b[1m->\u001b[1m->\u001b[1m->\u001b[1m->\u001b[1m->\u001b[1m->\u001b[1m->\u001b[1m->\u001b[1m->\u001b[1m->\u001b[1m->\u001b[1m->\u001b[1m->\u001b[1m->\u001b[1m->\u001b[1m->\u001b[1m->\u001b[1m->\u001b[1m->\u001b[1m->\u001b[1m->\u001b[1m->\u001b[1m->\u001b[1m->\u001b[1m->\u001b[1m->\u001b[1m->\u001b[1m->\u001b[1m->\u001b[1m->\u001b[1m->\u001b[1m->\u001b[1m->\u001b[1m->\u001b[1m->\u001b[1m->\u001b[1m->\u001b[1m->\u001b[1m->\u001b[1m->\n",
            "\u001b[1mConfusion Matrix\n",
            " [[11588   425]\n",
            " [ 1211   340]]\n",
            "------------------------------\n",
            "Accuracy of KNN :0.88\n",
            "------------------------------\n",
            "\n",
            " Classification Report\n",
            "               precision    recall  f1-score   support\n",
            "\n",
            "           0       0.91      0.96      0.93     12013\n",
            "           1       0.44      0.22      0.29      1551\n",
            "\n",
            "    accuracy                           0.88     13564\n",
            "   macro avg       0.67      0.59      0.61     13564\n",
            "weighted avg       0.85      0.88      0.86     13564\n",
            "\n",
            "->->->->->->->->->->->->->->->->->->->->->->->->->->->->->->->->->->->->->->->->->->->->->->->->->->->->->->->->->->->->->->->\n"
          ],
          "name": "stdout"
        }
      ]
    },
    {
      "cell_type": "code",
      "metadata": {
        "colab": {
          "base_uri": "https://localhost:8080/"
        },
        "id": "SozBmrxJhQ7h",
        "outputId": "9afc07c9-c82d-4147-9669-a293eea5ccd1"
      },
      "source": [
        "#n=500\n",
        "randf = RandomForestClassifier(n_estimators = 500, random_state=1, max_features=5) #Instantiate Random Forest Classifier\n",
        "randf = randf.fit(X_train, y_train)  #Call the fit method of Random Forest Classifier to train the model or to learn the parameters of model\n",
        "predicted_RANN = randf.predict(X_test) #Predict\n",
        "\n",
        "print('\\033[1m''->'*63)\n",
        "print('\\033[1m''Confusion Matrix\\n',confusion_matrix(y_test,predicted_RANN)) #for confusion matrix\n",
        "print('-'*30)\n",
        "RANN_accuracy = accuracy_score(y_test,predicted_RANN)\n",
        "print('Accuracy of KNN :{:.2f}'.format(RANN_accuracy)) #for accuracy score\n",
        "print('-'*30)\n",
        "print('\\n Classification Report\\n',classification_report(y_test,predicted_RANN)) #for classification report\n",
        "print('->'*63)"
      ],
      "execution_count": null,
      "outputs": [
        {
          "output_type": "stream",
          "text": [
            "\u001b[1m->\u001b[1m->\u001b[1m->\u001b[1m->\u001b[1m->\u001b[1m->\u001b[1m->\u001b[1m->\u001b[1m->\u001b[1m->\u001b[1m->\u001b[1m->\u001b[1m->\u001b[1m->\u001b[1m->\u001b[1m->\u001b[1m->\u001b[1m->\u001b[1m->\u001b[1m->\u001b[1m->\u001b[1m->\u001b[1m->\u001b[1m->\u001b[1m->\u001b[1m->\u001b[1m->\u001b[1m->\u001b[1m->\u001b[1m->\u001b[1m->\u001b[1m->\u001b[1m->\u001b[1m->\u001b[1m->\u001b[1m->\u001b[1m->\u001b[1m->\u001b[1m->\u001b[1m->\u001b[1m->\u001b[1m->\u001b[1m->\u001b[1m->\u001b[1m->\u001b[1m->\u001b[1m->\u001b[1m->\u001b[1m->\u001b[1m->\u001b[1m->\u001b[1m->\u001b[1m->\u001b[1m->\u001b[1m->\u001b[1m->\u001b[1m->\u001b[1m->\u001b[1m->\u001b[1m->\u001b[1m->\u001b[1m->\u001b[1m->\n",
            "\u001b[1mConfusion Matrix\n",
            " [[11614   399]\n",
            " [ 1216   335]]\n",
            "------------------------------\n",
            "Accuracy of KNN :0.88\n",
            "------------------------------\n",
            "\n",
            " Classification Report\n",
            "               precision    recall  f1-score   support\n",
            "\n",
            "           0       0.91      0.97      0.93     12013\n",
            "           1       0.46      0.22      0.29      1551\n",
            "\n",
            "    accuracy                           0.88     13564\n",
            "   macro avg       0.68      0.59      0.61     13564\n",
            "weighted avg       0.85      0.88      0.86     13564\n",
            "\n",
            "->->->->->->->->->->->->->->->->->->->->->->->->->->->->->->->->->->->->->->->->->->->->->->->->->->->->->->->->->->->->->->->\n"
          ],
          "name": "stdout"
        }
      ]
    },
    {
      "cell_type": "markdown",
      "metadata": {
        "id": "83gJ5pAphQ7j"
      },
      "source": [
        "# Models with accuracy scores"
      ]
    },
    {
      "cell_type": "code",
      "metadata": {
        "colab": {
          "base_uri": "https://localhost:8080/",
          "height": 411
        },
        "id": "WeiQntoihQ7k",
        "outputId": "65f04ec4-925e-419d-b212-542b0a8114f7"
      },
      "source": [
        "Scores = [('Naive bayes', NB_accuracy),\n",
        "      ('KNN', KNN_accuracy),\n",
        "      ('Logistic Regression', LR_accuracy),\n",
        "      ('SVC', SVC_accuracy ),\n",
        "      ('Decision Tree',DT_accuracy),\n",
        "      ('Decision Tree with Regularization',DTR_accuracy),\n",
        "      ('Bagging',BAG_accuracy),\n",
        "      ('Adaptive Boosting',ADA_accuracy),\n",
        "      ('Gradient Boosting',GRAD_accuracy),\n",
        "      ('Random Forest N=100',RAN_accuracy),\n",
        "      ('Random Forest N=500',RANN_accuracy)] #List of accuracy scores of all models\n",
        "\n",
        "Scores = pd.DataFrame(Scores,columns=['Model','Accuracy score']) #Conversion of list to dataframe\n",
        "\n",
        "print('\\033[1m''Current Scores with Outliers replaced with mean:')\n",
        "Scores.sort_values(by='Accuracy score',ascending=False) #Sort values in descending manner"
      ],
      "execution_count": null,
      "outputs": [
        {
          "output_type": "stream",
          "text": [
            "\u001b[1mCurrent Scores with Outliers replaced with mean:\n"
          ],
          "name": "stdout"
        },
        {
          "output_type": "execute_result",
          "data": {
            "text/html": [
              "<div>\n",
              "<style scoped>\n",
              "    .dataframe tbody tr th:only-of-type {\n",
              "        vertical-align: middle;\n",
              "    }\n",
              "\n",
              "    .dataframe tbody tr th {\n",
              "        vertical-align: top;\n",
              "    }\n",
              "\n",
              "    .dataframe thead th {\n",
              "        text-align: right;\n",
              "    }\n",
              "</style>\n",
              "<table border=\"1\" class=\"dataframe\">\n",
              "  <thead>\n",
              "    <tr style=\"text-align: right;\">\n",
              "      <th></th>\n",
              "      <th>Model</th>\n",
              "      <th>Accuracy score</th>\n",
              "    </tr>\n",
              "  </thead>\n",
              "  <tbody>\n",
              "    <tr>\n",
              "      <th>3</th>\n",
              "      <td>SVC</td>\n",
              "      <td>0.895385</td>\n",
              "    </tr>\n",
              "    <tr>\n",
              "      <th>5</th>\n",
              "      <td>Decision Tree with Regularization</td>\n",
              "      <td>0.895016</td>\n",
              "    </tr>\n",
              "    <tr>\n",
              "      <th>2</th>\n",
              "      <td>Logistic Regression</td>\n",
              "      <td>0.894869</td>\n",
              "    </tr>\n",
              "    <tr>\n",
              "      <th>8</th>\n",
              "      <td>Gradient Boosting</td>\n",
              "      <td>0.894648</td>\n",
              "    </tr>\n",
              "    <tr>\n",
              "      <th>7</th>\n",
              "      <td>Adaptive Boosting</td>\n",
              "      <td>0.893984</td>\n",
              "    </tr>\n",
              "    <tr>\n",
              "      <th>10</th>\n",
              "      <td>Random Forest N=500</td>\n",
              "      <td>0.880935</td>\n",
              "    </tr>\n",
              "    <tr>\n",
              "      <th>6</th>\n",
              "      <td>Bagging</td>\n",
              "      <td>0.880861</td>\n",
              "    </tr>\n",
              "    <tr>\n",
              "      <th>9</th>\n",
              "      <td>Random Forest N=100</td>\n",
              "      <td>0.879387</td>\n",
              "    </tr>\n",
              "    <tr>\n",
              "      <th>1</th>\n",
              "      <td>KNN</td>\n",
              "      <td>0.873120</td>\n",
              "    </tr>\n",
              "    <tr>\n",
              "      <th>4</th>\n",
              "      <td>Decision Tree</td>\n",
              "      <td>0.839059</td>\n",
              "    </tr>\n",
              "    <tr>\n",
              "      <th>0</th>\n",
              "      <td>Naive bayes</td>\n",
              "      <td>0.829475</td>\n",
              "    </tr>\n",
              "  </tbody>\n",
              "</table>\n",
              "</div>"
            ],
            "text/plain": [
              "                                Model  Accuracy score\n",
              "3                                 SVC        0.895385\n",
              "5   Decision Tree with Regularization        0.895016\n",
              "2                 Logistic Regression        0.894869\n",
              "8                   Gradient Boosting        0.894648\n",
              "7                   Adaptive Boosting        0.893984\n",
              "10                Random Forest N=500        0.880935\n",
              "6                             Bagging        0.880861\n",
              "9                 Random Forest N=100        0.879387\n",
              "1                                 KNN        0.873120\n",
              "4                       Decision Tree        0.839059\n",
              "0                         Naive bayes        0.829475"
            ]
          },
          "metadata": {},
          "execution_count": 200
        }
      ]
    },
    {
      "cell_type": "code",
      "metadata": {
        "colab": {
          "base_uri": "https://localhost:8080/",
          "height": 435
        },
        "id": "eKEoXzJqhQ7l",
        "outputId": "30f4d5b5-79db-42fd-ad99-105d931c06f2"
      },
      "source": [
        "sns.lineplot(x=Scores['Model'],y=Scores['Accuracy score'],data=Scores,markers=True, dashes=False) #Countplot of Scores\n",
        "plt.xticks(rotation=90)\n",
        "plt.show()"
      ],
      "execution_count": null,
      "outputs": [
        {
          "output_type": "display_data",
          "data": {
            "image/png": "[encoded data removed]",
            "text/plain": [
              "<Figure size 432x288 with 1 Axes>"
            ]
          },
          "metadata": {
            "needs_background": "light"
          }
        }
      ]
    },
    {
      "cell_type": "markdown",
      "metadata": {
        "id": "XH5O0gG7hQ7s"
      },
      "source": [
        "# Conclusion:\n",
        "## Comments on dataset:\n",
        "* The models perform well in predicting the class 0 i.e. customer not subscribing to term deposit which can be seen in the confusion matrix of all models. \n",
        "* The models do not perform well in predicting the class 1 i.e. customer subscribing to term deposit which can be seen in the confusion matrix of all models. \n",
        "* Above situation occured because the Dataset is imbalanced. i.e. The ratio difference between class 0 and class 1 is huge. Which trained models to effectively identify class 0 but did not train suffuiciently to classify class 1.\n",
        "* This situation could have been avoided if the datset was balanced. \n",
        "* Along with imbalance, the dataset contained large number of unknown string values in 'job','education','contact' and 'poutcome' columns.\n",
        "\n",
        "## Comments on  Models:\n",
        "* When benchmarking with 'duration' column, Support Vector Classifier achieved 90% model accuracy while naive bayes score was 85% accurate.\n",
        "* SVC Perfomed better because of it's capabality of creating multiple hpyerplanes and then classifying the data.\n",
        "* After removing the 'duration' column, The highest model score dropped by 0.5%.\n",
        "* The Outliers did not affect much on accuracy scores of all models. As can be seen in above accuracy scores, getting rid of outliers by mean/median replacement did not affect the scores.\n",
        "* In Decision Trees, Gradient boosting method always performed better for this dataset.\n",
        "* While visualizing Decision Tree, The Pruned decision tree was easy to visualize as it had lesser leaf nodes than Tree which was not pruned.\n",
        "\n",
        "## Miscellaneous Comments:\n",
        "* After trying get_dummies the score did not show significant difference as well as I have skipped the get_dummies step because the dataset was creating more dimension, which was making the project more computationally intensive.\n",
        "* If I had kept get_dummies step, then in production stage if the new dataset turned out to be huge in number of rows then this project would have taken a lot of time to execute.\n",
        "* Outlier handeling did not make any significant difference in the accuracy scores of models.\n",
        "* I have tried to keep minimum time complexity of this project."
      ]
    }
  ]
}